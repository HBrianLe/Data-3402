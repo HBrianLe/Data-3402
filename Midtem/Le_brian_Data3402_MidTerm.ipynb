{
 "cells": [
  {
   "cell_type": "markdown",
   "metadata": {},
   "source": [
    "# Data 3402 : Fall 2020 : Mid-Term Exam"
   ]
  },
  {
   "cell_type": "markdown",
   "metadata": {},
   "source": [
    "## 0. Instructions\n",
    "This is the Mid-Term Exam for Data 3402.  You will have 2.5 hours to complete this Jupyter notebook. You are welcome use any resources available to you on your computer (textbook, previous notes and homeworks, google, etc), but you may not communicate with any person (in class or otherwise). \n",
    "\n",
    "When you have completed the Exam, upload your Jupyter notebook and check in with your instructor so that your completion of the Exam in class can be verified. \n",
    "\n",
    "And now, on with the Exam."
   ]
  },
  {
   "cell_type": "markdown",
   "metadata": {},
   "source": [
    "## 1. Basic Linux Commands\n",
    "\n",
    "This section will cover basic linux commands.  You may work all of your solutions in the linux terminal, but your final answers should be entered into the jupyter notebook so that I can run code cells and produce the correct output.\n",
    "\n",
    "You should have a file called `NCAA_2019.csv` which contains information about the teams in the 2019 NCAA basketball tournament.  It contains the following columns.\n",
    "- `Region`: The region in which the team was placed.\n",
    "- `Seed`: The team's seed within its region\n",
    "- `Name`: The name of the team's university.\n",
    "- `Adj0`: The team's Adjusted Offense (number of points scored per 100 possessions)\n",
    "- `AdjD`: The team's Adjusted Defense (number of points allowed per 100 possessions)\n",
    "- `AdjT`: The team's Adjusted Tempo (number of possessions per 40 minutes)\n",
    "\n",
    "**Question 1.1**: (6 points) Make a back-up copy of `NCAA_2019.csv` called `NCAA_2019.csv~`"
   ]
  },
  {
   "cell_type": "code",
   "execution_count": 87,
   "metadata": {},
   "outputs": [],
   "source": [
    "%%bash\n",
    "cp NCAA_2019.csv NCAA_2019.csv~"
   ]
  },
  {
   "cell_type": "code",
   "execution_count": 88,
   "metadata": {},
   "outputs": [
    {
     "name": "stdout",
     "output_type": "stream",
     "text": [
      "NCAA_2019.csv\n",
      "NCAA_2019.csv~\n"
     ]
    }
   ],
   "source": [
    "%%bash\n",
    "# Do not modify this cell\n",
    "ls NCAA_2019.csv*"
   ]
  },
  {
   "cell_type": "markdown",
   "metadata": {},
   "source": [
    "**Question 1.2**: (6 points) In one line, print the number of records stored in `NCAA_2019.csv`.  Keep in mind that a header line is not a record of data."
   ]
  },
  {
   "cell_type": "code",
   "execution_count": 89,
   "metadata": {},
   "outputs": [
    {
     "name": "stdout",
     "output_type": "stream",
     "text": [
      "68\n"
     ]
    }
   ],
   "source": [
    "%%bash \n",
    "tail -n +2 NCAA_2019.csv | wc -l"
   ]
  },
  {
   "cell_type": "markdown",
   "metadata": {},
   "source": [
    "**Question 1.3**: (6 points) If you run the `file` command below you will see that `NCAA_2019.csv` is a file of type `ASCII text, with CRLF line terminators`.  This means that each line ends with a carriage return followed by a new line character (`\\r\\n`) instead of only a new line character (`\\n`).  Use `sed` to remove the carriage return characters so that each line in `NCAA_2019.csv` ends with just a newline character."
   ]
  },
  {
   "cell_type": "code",
   "execution_count": 90,
   "metadata": {},
   "outputs": [
    {
     "name": "stdout",
     "output_type": "stream",
     "text": [
      "NCAA_2019.csv: ASCII text\n"
     ]
    }
   ],
   "source": [
    "%%bash\n",
    "file NCAA_2019.csv"
   ]
  },
  {
   "cell_type": "code",
   "execution_count": 91,
   "metadata": {},
   "outputs": [],
   "source": [
    "%%bash\n",
    "sed -i -e s/\\r\\n/\\n/g NCAA_2019.csv"
   ]
  },
  {
   "cell_type": "code",
   "execution_count": 92,
   "metadata": {},
   "outputs": [
    {
     "name": "stdout",
     "output_type": "stream",
     "text": [
      "NCAA_2019.csv: ASCII text\n"
     ]
    }
   ],
   "source": [
    "%%bash\n",
    "file NCAA_2019.csv"
   ]
  },
  {
   "cell_type": "markdown",
   "metadata": {},
   "source": [
    "**Question 1.4**: (6 points) In one line, create a new file called `NCAA_2019_headless.csv` by removing the header line from `NCAA_2019.csv`"
   ]
  },
  {
   "cell_type": "code",
   "execution_count": 93,
   "metadata": {},
   "outputs": [],
   "source": [
    "%%bash\n",
    "tail -n +2 NCAA_2019.csv > NCAA_2019_headless.csv"
   ]
  },
  {
   "cell_type": "code",
   "execution_count": 94,
   "metadata": {},
   "outputs": [
    {
     "name": "stdout",
     "output_type": "stream",
     "text": [
      "East,16,North Carolina Central,96.6,108.5,65.2\n",
      "East,16,North Dakota St.,106.6,109.8,64.8\n",
      "East,1,Duke,120.1,88.1,72.2\n",
      "East,8,VCU,104.3,88.6,68.2\n",
      "East,9,UCF,110.3,95.7,64.8\n",
      "East,5,Mississippi St.,117.4,96.7,67.4\n",
      "East,12,Liberty,110.6,99.7,61.8\n",
      "East,4,Virginia Tech,118.4,94,63.3\n",
      "East,13,Saint Louis,102.6,96.3,66.1\n",
      "East,6,Maryland,113.8,93.8,65.6\n"
     ]
    }
   ],
   "source": [
    "%%bash\n",
    "# Do not modify this cell\n",
    "head NCAA_2019_headless.csv"
   ]
  },
  {
   "cell_type": "markdown",
   "metadata": {},
   "source": [
    "**Question 1.5**: (6 points) The following command should convert `NCAA_2019_headless.csv` into a space delimited file called `NCAA_2019_headless.dat`, but there are two things missing.  Correct the line so that it works as intended."
   ]
  },
  {
   "cell_type": "code",
   "execution_count": 95,
   "metadata": {},
   "outputs": [],
   "source": [
    "%%bash\n",
    "awk -F ',' '{printf \"%-10s%-5s%-25s%-10s%-10s%-10s\\n\",$1,$2,$3,$4,$5,$6}' NCAA_2019_headless.csv > NCAA_2019_headless.dat"
   ]
  },
  {
   "cell_type": "code",
   "execution_count": 96,
   "metadata": {},
   "outputs": [
    {
     "name": "stdout",
     "output_type": "stream",
     "text": [
      "East      16   North Carolina Central   96.6      108.5     65.2      \n",
      "East      16   North Dakota St.         106.6     109.8     64.8      \n",
      "East      1    Duke                     120.1     88.1      72.2      \n",
      "East      8    VCU                      104.3     88.6      68.2      \n",
      "East      9    UCF                      110.3     95.7      64.8      \n",
      "East      5    Mississippi St.          117.4     96.7      67.4      \n",
      "East      12   Liberty                  110.6     99.7      61.8      \n",
      "East      4    Virginia Tech            118.4     94        63.3      \n",
      "East      13   Saint Louis              102.6     96.3      66.1      \n",
      "East      6    Maryland                 113.8     93.8      65.6      \n",
      "East      11   Belmont                  114.8     101.8     71.1      \n",
      "East      11   Temple                   108.9     99.5      68.8      \n",
      "East      3    LSU                      118.5     97.5      69.9      \n",
      "East      14   Yale                     111.7     103.1     70.7      \n",
      "East      7    Louisville               113.4     92.4      67.1      \n",
      "East      10   Minnesota                110.7     96.2      67.5      \n",
      "East      2    Michigan St.             121.7     90.4      67.4      \n",
      "East      15   Bradley                  100.9     101.2     65.1      \n",
      "West      1    Gonzaga                  125.1     92.3      69.8      \n",
      "West      16   Pairie View A&M          101.5     105.8     71        \n",
      "West      16   Fairleigh Dickinson      106.2     110.4     66.8      \n",
      "West      8    Syracuse                 110.2     93.9      66.1      \n",
      "West      9    Baylor                   113.5     98.2      65.3      \n",
      "West      5    Marquette                114.2     95.7      68.6      \n",
      "West      12   Murray St.               112       98.7      69        \n",
      "West      4    Florida St.              113       90.4      68.3      \n",
      "West      13   Vermont                  107.9     99.2      65.3      \n",
      "West      6    Buffalo                  114.9     94.6      73.8      \n",
      "West      11   Arizona St.              109.8     98.6      70.5      \n",
      "West      11   St. John's               109.7     100.9     70.5      \n",
      "West      3    Texas Tech               112.7     85.9      66.5      \n",
      "West      14   Northen Kentucky         109.2     102.7     67.9      \n",
      "West      7    Nevada                   114       95.1      69.2      \n",
      "West      10   Florida                  110.2     91.9      62.7      \n",
      "West      2    Michigan                 115.5     86.1      64.4      \n",
      "West      15   Montana                  107.4     103.8     66.5      \n",
      "South     1    Virginia                 123.6     87.9      59.3      \n",
      "South     16   Gadner Webb              107.5     108.2     67.1      \n",
      "South     8    Mississippi              112.8     97.7      68.3      \n",
      "South     9    Oklahoma                 109.4     93.9      68.7      \n",
      "South     5    Wisconsin                110.8     87.1      63.6      \n",
      "South     12   Oregon                   107.7     92.5      64.1      \n",
      "South     4    Kansas St.               108       87.7      63        \n",
      "South     13   UC Irvine                106.6     97.1      65.1      \n",
      "South     6    Villanova                117       98.2      63.6      \n",
      "South     11   Saint May's              114.6     96.9      62.6      \n",
      "South     3    Purdue                   121.1     95        65.6      \n",
      "South     14   Old Dominion             101.9     96.4      64.3      \n",
      "South     7    Cincinnati               111.6     94.5      63.2      \n",
      "South     10   Iowa                     117.2     101.2     69.4      \n",
      "South     2    Tennessee                122.5     95.5      67.7      \n",
      "South     15   Colgate                  110       105.8     66.3      \n",
      "Midwest   1    North Carolina           119.9     90.7      74.3      \n",
      "Midwest   16   Iona                     106.5     109.6     70.5      \n",
      "Midwest   8    Utah St.                 113       96.3      67.8      \n",
      "Midwest   9    Washington               107       93.6      65.9      \n",
      "Midwest   5    Aubun                    119.6     96.2      67.5      \n",
      "Midwest   12   New Mexico St.           112.6     99        65.6      \n",
      "Midwest   4    Kansas                   112.7     92        69.9      \n",
      "Midwest   13   Northeasten              111.5     102.7     66        \n",
      "Midwest   6    Iowa St.                 119       97.1      67.6      \n",
      "Midwest   11   Ohio St.                 109.3     94.2      65.7      \n",
      "Midwest   3    Houston                  114.1     91.7      66.1      \n",
      "Midwest   14   Georgia St.              107.9     102.3     69.9      \n",
      "Midwest   7    Wofford                  118.4     97.6      65.6      \n",
      "Midwest   10   Seton Hall               109.3     96.4      68.9      \n",
      "Midwest   2    Kentucky                 118.2     90.8      65.8      \n",
      "Midwest   15   Abilene Christian        103.6     101.5     66        \n"
     ]
    }
   ],
   "source": [
    "%%bash\n",
    "cat NCAA_2019_headless.dat"
   ]
  },
  {
   "cell_type": "markdown",
   "metadata": {},
   "source": [
    "**Question 1.6**: (5 points) In one line, determine how many teams are in the East region."
   ]
  },
  {
   "cell_type": "code",
   "execution_count": 97,
   "metadata": {},
   "outputs": [
    {
     "name": "stdout",
     "output_type": "stream",
     "text": [
      "18\n"
     ]
    }
   ],
   "source": [
    "%%bash\n",
    "grep -E -c 'East' NCAA_2019_headless.dat"
   ]
  },
  {
   "cell_type": "markdown",
   "metadata": {},
   "source": [
    "**Question 1.7**: (6 points) In one line, print a list of the regions with the number of teams in each sorted in descending order by the number of teams in each region."
   ]
  },
  {
   "cell_type": "code",
   "execution_count": 98,
   "metadata": {},
   "outputs": [
    {
     "name": "stdout",
     "output_type": "stream",
     "text": [
      "     18 West\n",
      "     18 East\n",
      "     16 South\n",
      "     16 Midwest\n"
     ]
    }
   ],
   "source": [
    "%%bash\n",
    "awk '{print $1}' NCAA_2019_headless.dat | uniq -c | sort -r"
   ]
  },
  {
   "cell_type": "markdown",
   "metadata": {},
   "source": [
    "## 2. File Parsing With Python\n",
    "\n",
    "The file `vocab.txt` contains vocabulary lists for text data from 5 sources\n",
    "1. Enron Emails  (`enron`)\n",
    "2. NIPS full papers  (`nips`)\n",
    "3. KOS blog entries  (`kos`)\n",
    "4. NYTimes news articles  (`nytimes`)\n",
    "5. PubMed abstracts  (`pubmed`)\n",
    "\n",
    "The data is not in a nice structured format however.  Your task will be to extract the data and store it in CSV formatted file called `vocab.csv`. Lines containing descriptions of the data are prefixed with the string `######`.\n",
    "\n",
    "\n",
    "**Question 2.1**: (20 points) Write python code that will \n",
    "1. read the contents of `vocab.txt`, \n",
    "2. extract the data, \n",
    "3. reformat the data to CSV with two columns, `source` and `word`, and\n",
    "4. write the reformatted data to a file called `vocab.csv`."
   ]
  },
  {
   "cell_type": "code",
   "execution_count": 103,
   "metadata": {},
   "outputs": [],
   "source": [
    "with open('vocab.txt') as f:\n",
    "    lines = f.readlines()\n",
    "clean_lines = []\n",
    "for i in lines:\n",
    "    clean_lines.append(i.strip().split(':'))\n",
    "\n",
    "\n",
    "with open('vocab.csv', 'a') as a1:\n",
    "    a1.write('source' + ',' + 'word\\n' )\n",
    "    for i in range(22,len(clean_lines)):\n",
    "        try:\n",
    "            a1.write(clean_lines[i][0] + ',' + clean_lines[i][1] + '\\n')\n",
    "        except:\n",
    "            pass"
   ]
  },
  {
   "cell_type": "markdown",
   "metadata": {},
   "source": [
    "## 3. Python Multithreading\n",
    "\n",
    "**Question 3.1**: (14 points) Write python code that will use 30 threads to download the files listed in `download_list.txt`."
   ]
  },
  {
   "cell_type": "code",
   "execution_count": 86,
   "metadata": {},
   "outputs": [
    {
     "name": "stdout",
     "output_type": "stream",
     "text": [
      "Execution completed in 0.630418062210083 seconds\n"
     ]
    }
   ],
   "source": [
    "from multiprocessing import Process, Queue\n",
    "import wget\n",
    "import time\n",
    "\n",
    "def get_url_queue(q):\n",
    "    '''Basic worker function''' \n",
    "    page = q.get()\n",
    "    while(page != 'Done'):\n",
    "        page = page.strip()\n",
    "        wget.download(page)\n",
    "        page = q.get()\n",
    "    q.put('Done')\n",
    "    \n",
    "if(__name__ == \"__main__\"):    \n",
    "    start_time = time.time()\n",
    "\n",
    "    #read in the task list\n",
    "    datapages = open(\"dataset_list.txt\")\n",
    "    urls = datapages.readlines()\n",
    "\n",
    "    \n",
    "    # create a queue and add work units to it\n",
    "    q  = Queue()\n",
    "    [q.put(u) for u in urls] \n",
    "    q.put('Done')\n",
    "    # start threads\n",
    "    num_threads = 30\n",
    "    thrds = []\n",
    "    for i in range(num_threads):\n",
    "        p = Process(target = get_url_queue,args=[q])\n",
    "        thrds.append(p)\n",
    "        p.start()\n",
    "        \n",
    "    #wait for threads to finish\n",
    "    for p in thrds:\n",
    "        p.join\n",
    "    elapsed_6 = time.time()-start_time\n",
    "    print(\"Execution completed in {} seconds\".format(elapsed_6))"
   ]
  },
  {
   "cell_type": "markdown",
   "metadata": {},
   "source": [
    "## 4. Regular Expressions: What did Sherlock Holmes say?\n",
    "\n",
    "The phrase \"Elementary, my dear Watson\" is often attributed to Sherlock Holmes, the English detective in the works of Sir Arthur Conan Doyle. Holmes supposedly says this to his amazed companion, Dr. Watson, as he explains his reasoning in solving a crime. In this section, we will attempt to determine how often Sherlock Holmes uses this phrase (if he even uses it at all, which he may not have).\n",
    "\n",
    "All of the Sherlock Holmes books have been compiled into one single file called `TheCompleteSherlockHolmes.txt`.  We will begin by determining how many times the word 'elementary' is used. Since the word may be capitalized or not, we will use regular expressions to search for the word.\n",
    "\n",
    "**Question 4.1:** (6 points) Write a regular expression that will match both 'elementary' and 'Elementary'. Then use it to search the file `TheCompleteSherlockHolmes.txt` and determine how many times the word 'elementary' appears."
   ]
  },
  {
   "cell_type": "code",
   "execution_count": 114,
   "metadata": {},
   "outputs": [
    {
     "data": {
      "text/plain": [
       "5"
      ]
     },
     "execution_count": 114,
     "metadata": {},
     "output_type": "execute_result"
    }
   ],
   "source": [
    "import re\n",
    "with open('TheCompleteSherlockHolmes.txt') as holmes:\n",
    "    txt = holmes.readlines()\n",
    "r = '[Ee]lementary'    \n",
    "\n",
    "matches = re.findall(r,str(txt))\n",
    "L = []\n",
    "for m in matches:\n",
    "    L.append(m)\n",
    "len(L)"
   ]
  },
  {
   "cell_type": "markdown",
   "metadata": {},
   "source": [
    "Now that we have determined that the word 'elementary' is used a few times, let's see if we can find the phrase \"Elementary, my dear Watson,\" in the text.  Since we may be misquoting, let's search for a string in the text that contains the words 'elementary', 'my', 'dear', and 'Watson' in that order, possibly with other characters in between and possibly with different capitalization.\n",
    "\n",
    "**Question 4.2:** (6 points) Build a regular expression that will match a string containing the words 'elementary', 'my', 'dear', and 'Watson' in that order, possibly with other characters in between and possibly with different capitalization. Test your regular expression on the following two strings.\n",
    "- 'Elementary, My Dear Watson'\n",
    "- 'It was elementary my very dear friend watson' "
   ]
  },
  {
   "cell_type": "code",
   "execution_count": 29,
   "metadata": {},
   "outputs": [
    {
     "name": "stdout",
     "output_type": "stream",
     "text": [
      "Elementary, my dear Watson\n",
      "It was elementary my very dear friend watson\n"
     ]
    }
   ],
   "source": [
    "s1 = 'Elementary, my dear Watson'\n",
    "s2 = 'It was elementary my very dear friend watson'\n",
    "\n",
    "\n",
    "r = '(^.*?[Ee]lementary+\\W{1,4}(.*?)+my(.*?)dear\\s{1,10}(.*?)+[Ww]atson)'\n",
    "\n",
    "\n",
    "\n",
    "\n",
    "matches = re.findall(r,s1)\n",
    "for m in matches:\n",
    "    print(m[0])\n",
    "    \n",
    "    \n",
    "    \n",
    "    \n",
    "matches = re.findall(r,s2)\n",
    "for m in matches:\n",
    "    print(m[0])"
   ]
  },
  {
   "cell_type": "markdown",
   "metadata": {},
   "source": [
    "**Question 4.3:** (6 points) Search the entire text for any strings that match the regular expression you created in question 4.2."
   ]
  },
  {
   "cell_type": "code",
   "execution_count": 30,
   "metadata": {},
   "outputs": [
    {
     "name": "stdout",
     "output_type": "stream",
     "text": [
      "(\"['The Project Gutenberg EBook of A Study In Scarlet, by Arthur Conan Doyle\\\\n', '\\\\n', 'This eBook is for the use of anyone anywhere at no cost and with\\\\n', 'almost no restrictions whatsoever.  You may copy it, give it away or\\\\n', 're-use it under the terms of the Project Gutenberg License included\\\\n', 'with this eBook or online at www.gutenberg.org\\\\n', '\\\\n', '\\\\n', 'Title: A Study In Scarlet\\\\n', '\\\\n', 'Author: Arthur Conan Doyle\\\\n', '\\\\n', 'Posting Date: July 12, 2008 [EBook #244]\\\\n', 'Release Date: April, 1995\\\\n', 'Last Updated: September 30, 2016\\\\n', '\\\\n', 'Language: English\\\\n', '\\\\n', 'Character set encoding: UTF-8\\\\n', '\\\\n', '*** START OF THIS PROJECT GUTENBERG EBOOK A STUDY IN SCARLET ***\\\\n', '\\\\n', '\\\\n', '\\\\n', '\\\\n', 'Produced by Roger Squires\\\\n', '\\\\n', '\\\\n', '\\\\n', '\\\\n', '\\\\n', 'A STUDY IN SCARLET.\\\\n', '\\\\n', 'By A. Conan Doyle\\\\n', '\\\\n', '[1]\\\\n', '\\\\n', '\\\\n', '\\\\n', '     Original Transcribers Note: This etext is prepared directly\\\\n', '     from an 1887 edition, and care has been taken to duplicate the\\\\n', '     original exactly, including typographical and punctuation\\\\n', '     vagaries.\\\\n', '\\\\n', '     Additions to the text include adding the underscore character to\\\\n', '     indicate italics, and textual end-notes in square braces.\\\\n', '\\\\n', '     Project Gutenberg Editors Note: In reproofing and moving old PG\\\\n', '     files such as this to the present PG directory system it is the\\\\n', '     policy to reformat the text to conform to present PG Standards.\\\\n', '     In this case however, in consideration of the note above of the\\\\n', '     original transcriber describing his care to try to duplicate the\\\\n', '     original 1887 edition as to typography and punctuation vagaries,\\\\n', '     no changes have been made in this ascii text file. However, in\\\\n', '     the Latin-1 file and this html file, present standards are\\\\n', '     followed and the several French and Spanish words have been\\\\n', '     given their proper accents.\\\\n', '\\\\n', '\\\\t Part II, The Country of the Saints, deals much with the Mormon Church.\\\\n', '\\\\n', '\\\\n', '\\\\n', '\\\\n', 'A STUDY IN SCARLET.\\\\n', '\\\\n', '\\\\n', '\\\\n', '\\\\n', '\\\\n', 'PART I.\\\\n', '\\\\n', '(_Being a reprint from the reminiscences of_ JOHN H. WATSON, M.D., _late\\\\n', 'of the Army Medical Department._) [2]\\\\n', '\\\\n', '\\\\n', '\\\\n', '\\\\n', 'CHAPTER I. MR. SHERLOCK HOLMES.\\\\n', '\\\\n', '\\\\n', 'IN the year 1878 I took my degree of Doctor of Medicine of the\\\\n', 'University of London, and proceeded to Netley to go through the course\\\\n', 'prescribed for surgeons in the army. Having completed my studies there,\\\\n', 'I was duly attached to the Fifth Northumberland Fusiliers as Assistant\\\\n', 'Surgeon. The regiment was stationed in India at the time, and before\\\\n', 'I could join it, the second Afghan war had broken out. On landing at\\\\n', 'Bombay, I learned that my corps had advanced through the passes, and\\\\n', 'was already deep in the enemys country. I followed, however, with many\\\\n', 'other officers who were in the same situation as myself, and succeeded\\\\n', 'in reaching Candahar in safety, where I found my regiment, and at once\\\\n', 'entered upon my new duties.\\\\n', '\\\\n', 'The campaign brought honours and promotion to many, but for me it had\\\\n', 'nothing but misfortune and disaster. I was removed from my brigade and\\\\n', 'attached to the Berkshires, with whom I served at the fatal battle of\\\\n', 'Maiwand. There I was struck on the shoulder by a Jezail bullet, which\\\\n', 'shattered the bone and grazed the subclavian artery. I should have\\\\n', 'fallen into the hands of the murderous Ghazis had it not been for the\\\\n', 'devotion and courage shown by Murray, my orderly, who threw me across a\\\\n', 'pack-horse, and succeeded in bringing me safely to the British lines.\\\\n', '\\\\n', 'Worn with pain, and weak from the prolonged hardships which I had\\\\n', 'undergone, I was removed, with a great train of wounded sufferers, to\\\\n', 'the base hospital at Peshawar. Here I rallied, and had already improved\\\\n', 'so far as to be able to walk about the wards, and even to bask a little\\\\n', 'upon the verandah, when I was struck down by enteric fever, that curse\\\\n', 'of our Indian possessions. For months my life was despaired of, and\\\\n', 'when at last I came to myself and became convalescent, I was so weak and\\\\n', 'emaciated that a medical board determined that not a day should be lost\\\\n', 'in sending me back to England. I was dispatched, accordingly, in the\\\\n', 'troopship Orontes, and landed a month later on Portsmouth jetty, with\\\\n', 'my health irretrievably ruined, but with permission from a paternal\\\\n', 'government to spend the next nine months in attempting to improve it.\\\\n', '\\\\n', 'I had neither kith nor kin in England, and was therefore as free as\\\\n', 'air--or as free as an income of eleven shillings and sixpence a day will\\\\n', 'permit a man to be. Under such circumstances, I naturally gravitated to\\\\n', 'London, that great cesspool into which all the loungers and idlers of\\\\n', 'the Empire are irresistibly drained. There I stayed for some time at\\\\n', 'a private hotel in the Strand, leading a comfortless, meaningless\\\\n', 'existence, and spending such money as I had, considerably more freely\\\\n', 'than I ought. So alarming did the state of my finances become, that\\\\n', 'I soon realized that I must either leave the metropolis and rusticate\\\\n', 'somewhere in the country, or that I must make a complete alteration in\\\\n', 'my style of living. Choosing the latter alternative, I began by making\\\\n', 'up my mind to leave the hotel, and to take up my quarters in some less\\\\n', 'pretentious and less expensive domicile.\\\\n', '\\\\n', 'On the very day that I had come to this conclusion, I was standing at\\\\n', 'the Criterion Bar, when some one tapped me on the shoulder, and turning\\\\n', 'round I recognized young Stamford, who had been a dresser under me at\\\\n', 'Barts. The sight of a friendly face in the great wilderness of London is\\\\n', 'a pleasant thing indeed to a lonely man. In old days Stamford had never\\\\n', 'been a particular crony of mine, but now I hailed him with enthusiasm,\\\\n', 'and he, in his turn, appeared to be delighted to see me. In the\\\\n', 'exuberance of my joy, I asked him to lunch with me at the Holborn, and\\\\n', 'we started off together in a hansom.\\\\n', '\\\\n', 'Whatever have you been doing with yourself, Watson? he asked in\\\\n', 'undisguised wonder, as we rattled through the crowded London streets.\\\\n', 'You are as thin as a lath and as brown as a nut.\\\\n', '\\\\n', 'I gave him a short sketch of my adventures, and had hardly concluded it\\\\n', 'by the time that we reached our destination.\\\\n', '\\\\n', 'Poor devil! he said, commiseratingly, after he had listened to my\\\\n', 'misfortunes. What are you up to now?\\\\n', '\\\\n', 'Looking for lodgings. [3] I answered. Trying to solve the problem\\\\n', 'as to whether it is possible to get comfortable rooms at a reasonable\\\\n', 'price.\\\\n', '\\\\n', 'Thats a strange thing, remarked my companion; you are the second man\\\\n', 'to-day that has used that expression to me.\\\\n', '\\\\n', 'And who was the first? I asked.\\\\n', '\\\\n', 'A fellow who is working at the chemical laboratory up at the hospital.\\\\n', 'He was bemoaning himself this morning because he could not get someone\\\\n', 'to go halves with him in some nice rooms which he had found, and which\\\\n', 'were too much for his purse.\\\\n', '\\\\n', 'By Jove! I cried, if he really wants someone to share the rooms and\\\\n', 'the expense, I am the very man for him. I should prefer having a partner\\\\n', 'to being alone.\\\\n', '\\\\n', 'Young Stamford looked rather strangely at me over his wine-glass. You\\\\n', 'dont know Sherlock Holmes yet, he said; perhaps you would not care\\\\n', 'for him as a constant companion.\\\\n', '\\\\n', 'Why, what is there against him?\\\\n', '\\\\n', 'Oh, I didnt say there was anything against him. He is a little queer\\\\n', 'in his ideas--an enthusiast in some branches of science. As far as I\\\\n', 'know he is a decent fellow enough.\\\\n', '\\\\n', 'A medical student, I suppose? said I.\\\\n', '\\\\n', 'No--I have no idea what he intends to go in for. I believe he is well\\\\n', 'up in anatomy, and he is a first-class chemist; but, as far as I know,\\\\n', 'he has never taken out any systematic medical classes. His studies are\\\\n', 'very desultory and eccentric, but he has amassed a lot of out-of-the way\\\\n', 'knowledge which would astonish his professors.\\\\n', '\\\\n', 'Did you never ask him what he was going in for? I asked.\\\\n', '\\\\n', 'No; he is not a man that it is easy to draw out, though he can be\\\\n', 'communicative enough when the fancy seizes him.\\\\n', '\\\\n', 'I should like to meet him, I said. If I am to lodge with anyone, I\\\\n', 'should prefer a man of studious and quiet habits. I am not strong\\\\n', 'enough yet to stand much noise or excitement. I had enough of both in\\\\n', 'Afghanistan to last me for the remainder of my natural existence. How\\\\n', 'could I meet this friend of yours?\\\\n', '\\\\n', 'He is sure to be at the laboratory, returned my companion. He either\\\\n', 'avoids the place for weeks, or else he works there from morning to\\\\n', 'night. If you like, we shall drive round together after luncheon.\\\\n', '\\\\n', 'Certainly, I answered, and the conversation drifted away into other\\\\n', 'channels.\\\\n', '\\\\n', 'As we made our way to the hospital after leaving the Holborn, Stamford\\\\n', 'gave me a few more particulars about the gentleman whom I proposed to\\\\n', 'take as a fellow-lodger.\\\\n', '\\\\n', 'You mustnt blame me if you dont get on with him, he said; I know\\\\n', 'nothing more of him than I have learned from meeting him occasionally in\\\\n', 'the laboratory. You proposed this arrangement, so you must not hold me\\\\n', 'responsible.\\\\n', '\\\\n', 'If we dont get on it will be easy to part company, I answered. It\\\\n', 'seems to me, Stamford, I added, looking hard at my companion, that you\\\\n', 'have some reason for washing your hands of the matter. Is this fellows\\\\n', 'temper so formidable, or what is it? Dont be mealy-mouthed about it.\\\\n', '\\\\n', 'It is not easy to express the inexpressible, he answered with a laugh.\\\\n', 'Holmes is a little too scientific for my tastes--it approaches to\\\\n', 'cold-bloodedness. I could imagine his giving a friend a little pinch of\\\\n', 'the latest vegetable alkaloid, not out of malevolence, you understand,\\\\n', 'but simply out of a spirit of inquiry in order to have an accurate idea\\\\n', 'of the effects. To do him justice, I think that he would take it himself\\\\n', 'with the same readiness. He appears to have a passion for definite and\\\\n', 'exact knowledge.\\\\n', '\\\\n', 'Very right too.\\\\n', '\\\\n', 'Yes, but it may be pushed to excess. When it comes to beating the\\\\n', 'subjects in the dissecting-rooms with a stick, it is certainly taking\\\\n', 'rather a bizarre shape.\\\\n', '\\\\n', 'Beating the subjects!\\\\n', '\\\\n', 'Yes, to verify how far bruises may be produced after death. I saw him\\\\n', 'at it with my own eyes.\\\\n', '\\\\n', 'And yet you say he is not a medical student?\\\\n', '\\\\n', 'No. Heaven knows what the objects of his studies are. But here we\\\\n', 'are, and you must form your own impressions about him. As he spoke, we\\\\n', 'turned down a narrow lane and passed through a small side-door, which\\\\n', 'opened into a wing of the great hospital. It was familiar ground to me,\\\\n', 'and I needed no guiding as we ascended the bleak stone staircase and\\\\n', 'made our way down the long corridor with its vista of whitewashed\\\\n', 'wall and dun-coloured doors. Near the further end a low arched passage\\\\n', 'branched away from it and led to the chemical laboratory.\\\\n', '\\\\n', 'This was a lofty chamber, lined and littered with countless bottles.\\\\n', 'Broad, low tables were scattered about, which bristled with retorts,\\\\n', 'test-tubes, and little Bunsen lamps, with their blue flickering flames.\\\\n', 'There was only one student in the room, who was bending over a distant\\\\n', 'table absorbed in his work. At the sound of our steps he glanced round\\\\n', 'and sprang to his feet with a cry of pleasure. Ive found it! Ive\\\\n', 'found it, he shouted to my companion, running towards us with a\\\\n', 'test-tube in his hand. I have found a re-agent which is precipitated\\\\n', 'by hoemoglobin, [4] and by nothing else. Had he discovered a gold mine,\\\\n', 'greater delight could not have shone upon his features.\\\\n', '\\\\n', 'Dr. Watson, Mr. Sherlock Holmes, said Stamford, introducing us.\\\\n', '\\\\n', 'How are you? he said cordially, gripping my hand with a strength\\\\n', 'for which I should hardly have given him credit. You have been in\\\\n', 'Afghanistan, I perceive.\\\\n', '\\\\n', 'How on earth did you know that? I asked in astonishment.\\\\n', '\\\\n', 'Never mind, said he, chuckling to himself. The question now is about\\\\n', 'hoemoglobin. No doubt you see the significance of this discovery of\\\\n', 'mine?\\\\n', '\\\\n', 'It is interesting, chemically, no doubt, I answered, but\\\\n', 'practically----\\\\n', '\\\\n', 'Why, man, it is the most practical medico-legal discovery for years.\\\\n', 'Dont you see that it gives us an infallible test for blood stains. Come\\\\n', 'over here now! He seized me by the coat-sleeve in his eagerness, and\\\\n', 'drew me over to the table at which he had been working. Let us have\\\\n', 'some fresh blood, he said, digging a long bodkin into his finger, and\\\\n', 'drawing off the resulting drop of blood in a chemical pipette. Now, I\\\\n', 'add this small quantity of blood to a litre of water. You perceive that\\\\n', 'the resulting mixture has the appearance of pure water. The proportion\\\\n', 'of blood cannot be more than one in a million. I have no doubt, however,\\\\n', 'that we shall be able to obtain the characteristic reaction. As he\\\\n', 'spoke, he threw into the vessel a few white crystals, and then added\\\\n', 'some drops of a transparent fluid. In an instant the contents assumed a\\\\n', 'dull mahogany colour, and a brownish dust was precipitated to the bottom\\\\n', 'of the glass jar.\\\\n', '\\\\n', 'Ha! ha! he cried, clapping his hands, and looking as delighted as a\\\\n', 'child with a new toy. What do you think of that?\\\\n', '\\\\n', 'It seems to be a very delicate test, I remarked.\\\\n', '\\\\n', 'Beautiful! beautiful! The old Guiacum test was very clumsy and\\\\n', 'uncertain. So is the microscopic examination for blood corpuscles. The\\\\n', 'latter is valueless if the stains are a few hours old. Now, this appears\\\\n', 'to act as well whether the blood is old or new. Had this test been\\\\n', 'invented, there are hundreds of men now walking the earth who would long\\\\n', 'ago have paid the penalty of their crimes.\\\\n', '\\\\n', 'Indeed! I murmured.\\\\n', '\\\\n', 'Criminal cases are continually hinging upon that one point. A man is\\\\n', 'suspected of a crime months perhaps after it has been committed. His\\\\n', 'linen or clothes are examined, and brownish stains discovered upon them.\\\\n', 'Are they blood stains, or mud stains, or rust stains, or fruit stains,\\\\n', 'or what are they? That is a question which has puzzled many an expert,\\\\n', 'and why? Because there was no reliable test. Now we have the Sherlock\\\\n', 'Holmes test, and there will no longer be any difficulty.\\\\n', '\\\\n', 'His eyes fairly glittered as he spoke, and he put his hand over his\\\\n', 'heart and bowed as if to some applauding crowd conjured up by his\\\\n', 'imagination.\\\\n', '\\\\n', 'You are to be congratulated, I remarked, considerably surprised at his\\\\n', 'enthusiasm.\\\\n', '\\\\n', 'There was the case of Von Bischoff at Frankfort last year. He would\\\\n', 'certainly have been hung had this test been in existence. Then there was\\\\n', 'Mason of Bradford, and the notorious Muller, and Lefevre of Montpellier,\\\\n', 'and Samson of New Orleans. I could name a score of cases in which it\\\\n', 'would have been decisive.\\\\n', '\\\\n', 'You seem to be a walking calendar of crime, said Stamford with a\\\\n', 'laugh. You might start a paper on those lines. Call it the Police News\\\\n', 'of the Past.\\\\n', '\\\\n', 'Very interesting reading it might be made, too, remarked Sherlock\\\\n', 'Holmes, sticking a small piece of plaster over the prick on his finger.\\\\n', 'I have to be careful, he continued, turning to me with a smile, for I\\\\n', 'dabble with poisons a good deal. He held out his hand as he spoke, and\\\\n', 'I noticed that it was all mottled over with similar pieces of plaster,\\\\n', 'and discoloured with strong acids.\\\\n', '\\\\n', 'We came here on business, said Stamford, sitting down on a high\\\\n', 'three-legged stool, and pushing another one in my direction with\\\\n', 'his foot. My friend here wants to take diggings, and as you were\\\\n', 'complaining that you could get no one to go halves with you, I thought\\\\n', 'that I had better bring you together.\\\\n', '\\\\n', 'Sherlock Holmes seemed delighted at the idea of sharing his rooms with\\\\n', 'me. I have my eye on a suite in Baker Street, he said, which would\\\\n', 'suit us down to the ground. You dont mind the smell of strong tobacco,\\\\n', 'I hope?\\\\n', '\\\\n', 'I always smoke ships myself, I answered.\\\\n', '\\\\n', 'Thats good enough. I generally have chemicals about, and occasionally\\\\n', 'do experiments. Would that annoy you?\\\\n', '\\\\n', 'By no means.\\\\n', '\\\\n', 'Let me see--what are my other shortcomings. I get in the dumps at\\\\n', 'times, and dont open my mouth for days on end. You must not think I am\\\\n', 'sulky when I do that. Just let me alone, and Ill soon be right. What\\\\n', 'have you to confess now? Its just as well for two fellows to know the\\\\n', 'worst of one another before they begin to live together.\\\\n', '\\\\n', 'I laughed at this cross-examination. I keep a bull pup, I said, and\\\\n', 'I object to rows because my nerves are shaken, and I get up at all sorts\\\\n', 'of ungodly hours, and I am extremely lazy. I have another set of vices\\\\n', 'when Im well, but those are the principal ones at present.\\\\n', '\\\\n', 'Do you include violin-playing in your category of rows? he asked,\\\\n', 'anxiously.\\\\n', '\\\\n', 'It depends on the player, I answered. A well-played violin is a treat\\\\n', 'for the gods--a badly-played one----\\\\n', '\\\\n', 'Oh, thats all right, he cried, with a merry laugh. I think we may\\\\n', 'consider the thing as settled--that is, if the rooms are agreeable to\\\\n', 'you.\\\\n', '\\\\n', 'When shall we see them?\\\\n', '\\\\n', 'Call for me here at noon to-morrow, and well go together and settle\\\\n', 'everything, he answered.\\\\n', '\\\\n', 'All right--noon exactly, said I, shaking his hand.\\\\n', '\\\\n', 'We left him working among his chemicals, and we walked together towards\\\\n', 'my hotel.\\\\n', '\\\\n', 'By the way, I asked suddenly, stopping and turning upon Stamford, how\\\\n', 'the deuce did he know that I had come from Afghanistan?\\\\n', '\\\\n', 'My companion smiled an enigmatical smile. Thats just his little\\\\n', 'peculiarity, he said. A good many people have wanted to know how he\\\\n', 'finds things out.\\\\n', '\\\\n', 'Oh! a mystery is it? I cried, rubbing my hands. This is very piquant.\\\\n', 'I am much obliged to you for bringing us together. The proper study of\\\\n', 'mankind is man, you know.\\\\n', '\\\\n', 'You must study him, then, Stamford said, as he bade me good-bye.\\\\n', 'Youll find him a knotty problem, though. Ill wager he learns more\\\\n', 'about you than you about him. Good-bye.\\\\n', '\\\\n', 'Good-bye, I answered, and strolled on to my hotel, considerably\\\\n', 'interested in my new acquaintance.\\\\n', '\\\\n', '\\\\n', '\\\\n', '\\\\n', 'CHAPTER II. THE SCIENCE OF DEDUCTION.\\\\n', '\\\\n', '\\\\n', 'WE met next day as he had arranged, and inspected the rooms at No. 221B,\\\\n', '[5] Baker Street, of which he had spoken at our meeting. They\\\\n', 'consisted of a couple of comfortable bed-rooms and a single large\\\\n', 'airy sitting-room, cheerfully furnished, and illuminated by two broad\\\\n', 'windows. So desirable in every way were the apartments, and so moderate\\\\n', 'did the terms seem when divided between us, that the bargain was\\\\n', 'concluded upon the spot, and we at once entered into possession.\\\\n', 'That very evening I moved my things round from the hotel, and on the\\\\n', 'following morning Sherlock Holmes followed me with several boxes and\\\\n', 'portmanteaus. For a day or two we were busily employed in unpacking and\\\\n', 'laying out our property to the best advantage. That done, we\\\\n', 'gradually began to settle down and to accommodate ourselves to our new\\\\n', 'surroundings.\\\\n', '\\\\n', 'Holmes was certainly not a difficult man to live with. He was quiet\\\\n', 'in his ways, and his habits were regular. It was rare for him to be\\\\n', 'up after ten at night, and he had invariably breakfasted and gone out\\\\n', 'before I rose in the morning. Sometimes he spent his day at the chemical\\\\n', 'laboratory, sometimes in the dissecting-rooms, and occasionally in long\\\\n', 'walks, which appeared to take him into the lowest portions of the City.\\\\n', 'Nothing could exceed his energy when the working fit was upon him; but\\\\n', 'now and again a reaction would seize him, and for days on end he would\\\\n', 'lie upon the sofa in the sitting-room, hardly uttering a word or moving\\\\n', 'a muscle from morning to night. On these occasions I have noticed such\\\\n', 'a dreamy, vacant expression in his eyes, that I might have suspected him\\\\n', 'of being addicted to the use of some narcotic, had not the temperance\\\\n', 'and cleanliness of his whole life forbidden such a notion.\\\\n', '\\\\n', 'As the weeks went by, my interest in him and my curiosity as to his\\\\n', 'aims in life, gradually deepened and increased. His very person and\\\\n', 'appearance were such as to strike the attention of the most casual\\\\n', 'observer. In height he was rather over six feet, and so excessively\\\\n', 'lean that he seemed to be considerably taller. His eyes were sharp and\\\\n', 'piercing, save during those intervals of torpor to which I have alluded;\\\\n', 'and his thin, hawk-like nose gave his whole expression an air of\\\\n', 'alertness and decision. His chin, too, had the prominence and squareness\\\\n', 'which mark the man of determination. His hands were invariably\\\\n', 'blotted with ink and stained with chemicals, yet he was possessed of\\\\n', 'extraordinary delicacy of touch, as I frequently had occasion to observe\\\\n', 'when I watched him manipulating his fragile philosophical instruments.\\\\n', '\\\\n', 'The reader may set me down as a hopeless busybody, when I confess how\\\\n', 'much this man stimulated my curiosity, and how often I endeavoured\\\\n', 'to break through the reticence which he showed on all that concerned\\\\n', 'himself. Before pronouncing judgment, however, be it remembered, how\\\\n', 'objectless was my life, and how little there was to engage my attention.\\\\n', 'My health forbade me from venturing out unless the weather was\\\\n', 'exceptionally genial, and I had no friends who would call upon me and\\\\n', 'break the monotony of my daily existence. Under these circumstances, I\\\\n', 'eagerly hailed the little mystery which hung around my companion, and\\\\n', 'spent much of my time in endeavouring to unravel it.\\\\n', '\\\\n', 'He was not studying medicine. He had himself, in reply to a question,\\\\n', 'confirmed Stamfords opinion upon that point. Neither did he appear to\\\\n', 'have pursued any course of reading which might fit him for a degree in\\\\n', 'science or any other recognized portal which would give him an entrance\\\\n', 'into the learned world. Yet his zeal for certain studies was remarkable,\\\\n', 'and within eccentric limits his knowledge was so extraordinarily ample\\\\n', 'and minute that his observations have fairly astounded me. Surely no man\\\\n', 'would work so hard or attain such precise information unless he had some\\\\n', 'definite end in view. Desultory readers are seldom remarkable for the\\\\n', 'exactness of their learning. No man burdens his mind with small matters\\\\n', 'unless he has some very good reason for doing so.\\\\n', '\\\\n', 'His ignorance was as remarkable as his knowledge. Of contemporary\\\\n', 'literature, philosophy and politics he appeared to know next to nothing.\\\\n', 'Upon my quoting Thomas Carlyle, he inquired in the naivest way who he\\\\n', 'might be and what he had done. My surprise reached a climax, however,\\\\n', 'when I found incidentally that he was ignorant of the Copernican Theory\\\\n', 'and of the composition of the Solar System. That any civilized human\\\\n', 'being in this nineteenth century should not be aware that the earth\\\\n', 'travelled round the sun appeared to be to me such an extraordinary fact\\\\n', 'that I could hardly realize it.\\\\n', '\\\\n', 'You appear to be astonished, he said, smiling at my expression of\\\\n', 'surprise. Now that I do know it I shall do my best to forget it.\\\\n', '\\\\n', 'To forget it!\\\\n', '\\\\n', 'You see, he explained, I consider that a mans brain originally is\\\\n', 'like a little empty attic, and you have to stock it with such furniture\\\\n', 'as you choose. A fool takes in all the lumber of every sort that he\\\\n', 'comes across, so that the knowledge which might be useful to him gets\\\\n', 'crowded out, or at best is jumbled up with a lot of other things so that\\\\n', 'he has a difficulty in laying his hands upon it. Now the skilful workman\\\\n', 'is very careful indeed as to what he takes into his brain-attic. He will\\\\n', 'have nothing but the tools which may help him in doing his work, but of\\\\n', 'these he has a large assortment, and all in the most perfect order. It\\\\n', 'is a mistake to think that that little room has elastic walls and can\\\\n', 'distend to any extent. Depend upon it there comes a time when for every\\\\n', 'addition of knowledge you forget something that you knew before. It is\\\\n', 'of the highest importance, therefore, not to have useless facts elbowing\\\\n', 'out the useful ones.\\\\n', '\\\\n', 'But the Solar System! I protested.\\\\n', '\\\\n', 'What the deuce is it to me? he interrupted impatiently; you say\\\\n', 'that we go round the sun. If we went round the moon it would not make a\\\\n', 'pennyworth of difference to me or to my work.\\\\n', '\\\\n', 'I was on the point of asking him what that work might be, but something\\\\n', 'in his manner showed me that the question would be an unwelcome one. I\\\\n', 'pondered over our short conversation, however, and endeavoured to draw\\\\n', 'my deductions from it. He said that he would acquire no knowledge which\\\\n', 'did not bear upon his object. Therefore all the knowledge which he\\\\n', 'possessed was such as would be useful to him. I enumerated in my own\\\\n', 'mind all the various points upon which he had shown me that he was\\\\n', 'exceptionally well-informed. I even took a pencil and jotted them down.\\\\n', 'I could not help smiling at the document when I had completed it. It ran\\\\n', 'in this way--\\\\n', '\\\\n', '\\\\n', 'SHERLOCK HOLMES--his limits.\\\\n', '\\\\n', '  1. Knowledge of Literature.--Nil.\\\\n', '  2.              Philosophy.--Nil.\\\\n', '  3.              Astronomy.--Nil.\\\\n', '  4.              Politics.--Feeble.\\\\n', '  5.              Botany.--Variable.  Well up in belladonna,\\\\n', '                              opium, and poisons generally.\\\\n', '                              Knows nothing of practical gardening.\\\\n', '  6.              Geology.--Practical, but limited.\\\\n', '                               Tells at a glance different soils\\\\n', '                               from each other.  After walks has\\\\n', '                               shown me splashes upon his trousers,\\\\n', '                               and told me by their colour and\\\\n', '                               consistence in what part of London\\\\n', '                               he had received them.\\\\n', '  7.              Chemistry.--Profound.\\\\n', '  8.              Anatomy.--Accurate, but unsystematic.\\\\n', '  9.              Sensational Literature.--Immense.  He appears\\\\n', '                              to know every detail of every horror\\\\n', '                              perpetrated in the century.\\\\n', '  10. Plays the violin well.\\\\n', '  11. Is an expert singlestick player, boxer, and swordsman.\\\\n', '  12. Has a good practical knowledge of British law.\\\\n', '\\\\n', '\\\\n', 'When I had got so far in my list I threw it into the fire in despair.\\\\n', 'If I can only find what the fellow is driving at by reconciling all\\\\n', 'these accomplishments, and discovering a calling which needs them all,\\\\n', ' I said to myself, I may as well give up the attempt at once.\\\\n', '\\\\n', 'I see that I have alluded above to his powers upon the violin. These\\\\n', 'were very remarkable, but as eccentric as all his other accomplishments.\\\\n', 'That he could play pieces, and difficult pieces, I knew well, because\\\\n', 'at my request he has played me some of Mendelssohns Lieder, and other\\\\n', 'favourites. When left to himself, however, he would seldom produce any\\\\n', 'music or attempt any recognized air. Leaning back in his arm-chair of\\\\n', 'an evening, he would close his eyes and scrape carelessly at the fiddle\\\\n', 'which was thrown across his knee. Sometimes the chords were sonorous and\\\\n', 'melancholy. Occasionally they were fantastic and cheerful. Clearly they\\\\n', 'reflected the thoughts which possessed him, but whether the music aided\\\\n', 'those thoughts, or whether the playing was simply the result of a whim\\\\n', 'or fancy was more than I could determine. I might have rebelled against\\\\n', 'these exasperating solos had it not been that he usually terminated them\\\\n', 'by playing in quick succession a whole series of my favourite airs as a\\\\n', 'slight compensation for the trial upon my patience.\\\\n', '\\\\n', 'During the first week or so we had no callers, and I had begun to think\\\\n', 'that my companion was as friendless a man as I was myself. Presently,\\\\n', 'however, I found that he had many acquaintances, and those in the most\\\\n', 'different classes of society. There was one little sallow rat-faced,\\\\n', 'dark-eyed fellow who was introduced to me as Mr. Lestrade, and who came\\\\n', 'three or four times in a single week. One morning a young girl called,\\\\n', 'fashionably dressed, and stayed for half an hour or more. The same\\\\n', 'afternoon brought a grey-headed, seedy visitor, looking like a Jew\\\\n', 'pedlar, who appeared to me to be much excited, and who was closely\\\\n', 'followed by a slip-shod elderly woman. On another occasion an old\\\\n', 'white-haired gentleman had an interview with my companion; and on\\\\n', 'another a railway porter in his velveteen uniform. When any of these\\\\n', 'nondescript individuals put in an appearance, Sherlock Holmes used to\\\\n', 'beg for the use of the sitting-room, and I would retire to my bed-room.\\\\n', 'He always apologized to me for putting me to this inconvenience. I have\\\\n', 'to use this room as a place of business, he said, and these people\\\\n', 'are my clients. Again I had an opportunity of asking him a point blank\\\\n', 'question, and again my delicacy prevented me from forcing another man to\\\\n', 'confide in me. I imagined at the time that he had some strong reason for\\\\n', 'not alluding to it, but he soon dispelled the idea by coming round to\\\\n', 'the subject of his own accord.\\\\n', '\\\\n', 'It was upon the 4th of March, as I have good reason to remember, that I\\\\n', 'rose somewhat earlier than usual, and found that Sherlock Holmes had not\\\\n', 'yet finished his breakfast. The landlady had become so accustomed to my\\\\n', 'late habits that my place had not been laid nor my coffee prepared. With\\\\n', 'the unreasonable petulance of mankind I rang the bell and gave a curt\\\\n', 'intimation that I was ready. Then I picked up a magazine from the table\\\\n', 'and attempted to while away the time with it, while my companion munched\\\\n', 'silently at his toast. One of the articles had a pencil mark at the\\\\n', 'heading, and I naturally began to run my eye through it.\\\\n', '\\\\n', 'Its somewhat ambitious title was The Book of Life, and it attempted to\\\\n', 'show how much an observant man might learn by an accurate and systematic\\\\n', 'examination of all that came in his way. It struck me as being a\\\\n', 'remarkable mixture of shrewdness and of absurdity. The reasoning was\\\\n', 'close and intense, but the deductions appeared to me to be far-fetched\\\\n', 'and exaggerated. The writer claimed by a momentary expression, a twitch\\\\n', 'of a muscle or a glance of an eye, to fathom a mans inmost thoughts.\\\\n', 'Deceit, according to him, was an impossibility in the case of one\\\\n', 'trained to observation and analysis. His conclusions were as infallible\\\\n', 'as so many propositions of Euclid. So startling would his results appear\\\\n', 'to the uninitiated that until they learned the processes by which he had\\\\n', 'arrived at them they might well consider him as a necromancer.\\\\n', '\\\\n', 'From a drop of water, said the writer, a logician could infer the\\\\n', 'possibility of an Atlantic or a Niagara without having seen or heard of\\\\n', 'one or the other. So all life is a great chain, the nature of which is\\\\n', 'known whenever we are shown a single link of it. Like all other arts,\\\\n', 'the Science of Deduction and Analysis is one which can only be acquired\\\\n', 'by long and patient study nor is life long enough to allow any mortal\\\\n', 'to attain the highest possible perfection in it. Before turning to\\\\n', 'those moral and mental aspects of the matter which present the greatest\\\\n', 'difficulties, let the enquirer begin by mastering more elementary\\\\n', 'problems. Let him, on meeting a fellow-mortal, learn at a glance to\\\\n', 'distinguish the history of the man, and the trade or profession to\\\\n', 'which he belongs. Puerile as such an exercise may seem, it sharpens the\\\\n', 'faculties of observation, and teaches one where to look and what to look\\\\n', 'for. By a mans finger nails, by his coat-sleeve, by his boot, by his\\\\n', 'trouser knees, by the callosities of his forefinger and thumb, by his\\\\n', 'expression, by his shirt cuffs--by each of these things a mans calling\\\\n', 'is plainly revealed. That all united should fail to enlighten the\\\\n', 'competent enquirer in any case is almost inconceivable.\\\\n', '\\\\n', 'What ineffable twaddle! I cried, slapping the magazine down on the\\\\n', 'table, I never read such rubbish in my life.\\\\n', '\\\\n', 'What is it? asked Sherlock Holmes.\\\\n', '\\\\n', 'Why, this article, I said, pointing at it with my egg spoon as I sat\\\\n', 'down to my breakfast. I see that you have read it since you have marked\\\\n', 'it. I dont deny that it is smartly written. It irritates me though. It\\\\n', 'is evidently the theory of some arm-chair lounger who evolves all these\\\\n', 'neat little paradoxes in the seclusion of his own study. It is not\\\\n', 'practical. I should like to see him clapped down in a third class\\\\n', 'carriage on the Underground, and asked to give the trades of all his\\\\n', 'fellow-travellers. I would lay a thousand to one against him.\\\\n', '\\\\n', 'You would lose your money, Sherlock Holmes remarked calmly. As for\\\\n', 'the article I wrote it myself.\\\\n', '\\\\n', 'You!\\\\n', '\\\\n', 'Yes, I have a turn both for observation and for deduction. The\\\\n', 'theories which I have expressed there, and which appear to you to be so\\\\n', 'chimerical are really extremely practical--so practical that I depend\\\\n', 'upon them for my bread and cheese.\\\\n', '\\\\n', 'And how? I asked involuntarily.\\\\n', '\\\\n', 'Well, I have a trade of my own. I suppose I am the only one in the\\\\n', 'world. Im a consulting detective, if you can understand what that is.\\\\n', 'Here in London we have lots of Government detectives and lots of private\\\\n', 'ones. When these fellows are at fault they come to me, and I manage to\\\\n', 'put them on the right scent. They lay all the evidence before me, and I\\\\n', 'am generally able, by the help of my knowledge of the history of\\\\n', 'crime, to set them straight. There is a strong family resemblance about\\\\n', 'misdeeds, and if you have all the details of a thousand at your finger\\\\n', 'ends, it is odd if you cant unravel the thousand and first. Lestrade\\\\n', 'is a well-known detective. He got himself into a fog recently over a\\\\n', 'forgery case, and that was what brought him here.\\\\n', '\\\\n', 'And these other people?\\\\n', '\\\\n', 'They are mostly sent on by private inquiry agencies. They are\\\\n', 'all people who are in trouble about something, and want a little\\\\n', 'enlightening. I listen to their story, they listen to my comments, and\\\\n', 'then I pocket my fee.\\\\n', '\\\\n', 'But do you mean to say, I said, that without leaving your room you\\\\n', 'can unravel some knot which other men can make nothing of, although they\\\\n', 'have seen every detail for themselves?\\\\n', '\\\\n', 'Quite so. I have a kind of intuition that way. Now and again a case\\\\n', 'turns up which is a little more complex. Then I have to bustle about and\\\\n', 'see things with my own eyes. You see I have a lot of special knowledge\\\\n', 'which I apply to the problem, and which facilitates matters wonderfully.\\\\n', 'Those rules of deduction laid down in that article which aroused your\\\\n', 'scorn, are invaluable to me in practical work. Observation with me is\\\\n', 'second nature. You appeared to be surprised when I told you, on our\\\\n', 'first meeting, that you had come from Afghanistan.\\\\n', '\\\\n', 'You were told, no doubt.\\\\n', '\\\\n', 'Nothing of the sort. I _knew_ you came from Afghanistan. From long\\\\n', 'habit the train of thoughts ran so swiftly through my mind, that I\\\\n', 'arrived at the conclusion without being conscious of intermediate steps.\\\\n', 'There were such steps, however. The train of reasoning ran, Here is a\\\\n', 'gentleman of a medical type, but with the air of a military man. Clearly\\\\n', 'an army doctor, then. He has just come from the tropics, for his face is\\\\n', 'dark, and that is not the natural tint of his skin, for his wrists are\\\\n', 'fair. He has undergone hardship and sickness, as his haggard face says\\\\n', 'clearly. His left arm has been injured. He holds it in a stiff and\\\\n', 'unnatural manner. Where in the tropics could an English army doctor have\\\\n', 'seen much hardship and got his arm wounded? Clearly in Afghanistan. The\\\\n', 'whole train of thought did not occupy a second. I then remarked that you\\\\n', 'came from Afghanistan, and you were astonished.\\\\n', '\\\\n', 'It is simple enough as you explain it, I said, smiling. You remind\\\\n', 'me of Edgar Allen Poes Dupin. I had no idea that such individuals did\\\\n', 'exist outside of stories.\\\\n', '\\\\n', 'Sherlock Holmes rose and lit his pipe. No doubt you think that you are\\\\n', 'complimenting me in comparing me to Dupin, he observed. Now, in my\\\\n', 'opinion, Dupin was a very inferior fellow. That trick of his of breaking\\\\n', 'in on his friends thoughts with an apropos remark after a quarter of\\\\n', 'an hours silence is really very showy and superficial. He had some\\\\n', 'analytical genius, no doubt; but he was by no means such a phenomenon as\\\\n', 'Poe appeared to imagine.\\\\n', '\\\\n', 'Have you read Gaboriaus works? I asked. Does Lecoq come up to your\\\\n', 'idea of a detective?\\\\n', '\\\\n', 'Sherlock Holmes sniffed sardonically. Lecoq was a miserable bungler,\\\\n', ' he said, in an angry voice; he had only one thing to recommend him, and\\\\n', 'that was his energy. That book made me positively ill. The question was\\\\n', 'how to identify an unknown prisoner. I could have done it in twenty-four\\\\n', 'hours. Lecoq took six months or so. It might be made a text-book for\\\\n', 'detectives to teach them what to avoid.\\\\n', '\\\\n', 'I felt rather indignant at having two characters whom I had admired\\\\n', 'treated in this cavalier style. I walked over to the window, and stood\\\\n', 'looking out into the busy street. This fellow may be very clever, I\\\\n', 'said to myself, but he is certainly very conceited.\\\\n', '\\\\n', 'There are no crimes and no criminals in these days, he said,\\\\n', 'querulously. What is the use of having brains in our profession. I know\\\\n', 'well that I have it in me to make my name famous. No man lives or has\\\\n', 'ever lived who has brought the same amount of study and of natural\\\\n', 'talent to the detection of crime which I have done. And what is the\\\\n', 'result? There is no crime to detect, or, at most, some bungling villainy\\\\n', 'with a motive so transparent that even a Scotland Yard official can see\\\\n', 'through it.\\\\n', '\\\\n', 'I was still annoyed at his bumptious style of conversation. I thought it\\\\n', 'best to change the topic.\\\\n', '\\\\n', 'I wonder what that fellow is looking for? I asked, pointing to a\\\\n', 'stalwart, plainly-dressed individual who was walking slowly down the\\\\n', 'other side of the street, looking anxiously at the numbers. He had\\\\n', 'a large blue envelope in his hand, and was evidently the bearer of a\\\\n', 'message.\\\\n', '\\\\n', 'You mean the retired sergeant of Marines, said Sherlock Holmes.\\\\n', '\\\\n', 'Brag and bounce! thought I to myself. He knows that I cannot verify\\\\n', 'his guess.\\\\n', '\\\\n', 'The thought had hardly passed through my mind when the man whom we were\\\\n', 'watching caught sight of the number on our door, and ran rapidly across\\\\n', 'the roadway. We heard a loud knock, a deep voice below, and heavy steps\\\\n', 'ascending the stair.\\\\n', '\\\\n', 'For Mr. Sherlock Holmes, he said, stepping into the room and handing\\\\n', 'my friend the letter.\\\\n', '\\\\n', 'Here was an opportunity of taking the conceit out of him. He little\\\\n', 'thought of this when he made that random shot. May I ask, my lad, I\\\\n', 'said, in the blandest voice, what your trade may be?\\\\n', '\\\\n', 'Commissionaire, sir, he said, gruffly. Uniform away for repairs.\\\\n', '\\\\n', 'And you were? I asked, with a slightly malicious glance at my\\\\n', 'companion.\\\\n', '\\\\n', 'A sergeant, sir, Royal Marine Light Infantry, sir. No answer? Right,\\\\n', 'sir.\\\\n', '\\\\n', 'He clicked his heels together, raised his hand in a salute, and was\\\\n', 'gone.\\\\n', '\\\\n', '\\\\n', '\\\\n', '\\\\n', 'CHAPTER III. THE LAURISTON GARDEN MYSTERY [6]\\\\n', '\\\\n', '\\\\n', 'I CONFESS that I was considerably startled by this fresh proof of the\\\\n', 'practical nature of my companions theories. My respect for his powers\\\\n', 'of analysis increased wondrously. There still remained some lurking\\\\n', 'suspicion in my mind, however, that the whole thing was a pre-arranged\\\\n', 'episode, intended to dazzle me, though what earthly object he could have\\\\n', 'in taking me in was past my comprehension. When I looked at him he\\\\n', 'had finished reading the note, and his eyes had assumed the vacant,\\\\n', 'lack-lustre expression which showed mental abstraction.\\\\n', '\\\\n', 'How in the world did you deduce that? I asked.\\\\n', '\\\\n', 'Deduce what? said he, petulantly.\\\\n', '\\\\n', 'Why, that he was a retired sergeant of Marines.\\\\n', '\\\\n', 'I have no time for trifles, he answered, brusquely; then with a smile,\\\\n', 'Excuse my rudeness. You broke the thread of my thoughts; but perhaps\\\\n', 'it is as well. So you actually were not able to see that that man was a\\\\n', 'sergeant of Marines?\\\\n', '\\\\n', 'No, indeed.\\\\n', '\\\\n', 'It was easier to know it than to explain why I knew it. If you\\\\n', 'were asked to prove that two and two made four, you might find some\\\\n', 'difficulty, and yet you are quite sure of the fact. Even across the\\\\n', 'street I could see a great blue anchor tattooed on the back of the\\\\n', 'fellows hand. That smacked of the sea. He had a military carriage,\\\\n', 'however, and regulation side whiskers. There we have the marine. He was\\\\n', 'a man with some amount of self-importance and a certain air of command.\\\\n', 'You must have observed the way in which he held his head and swung\\\\n', 'his cane. A steady, respectable, middle-aged man, too, on the face of\\\\n', 'him--all facts which led me to believe that he had been a sergeant.\\\\n', '\\\\n', 'Wonderful! I ejaculated.\\\\n', '\\\\n', 'Commonplace, said Holmes, though I thought from his expression that he\\\\n', 'was pleased at my evident surprise and admiration. I said just now that\\\\n', 'there were no criminals. It appears that I am wrong--look at this! He\\\\n', 'threw me over the note which the commissionaire had brought. [7]\\\\n', '\\\\n', 'Why, I cried, as I cast my eye over it, this is terrible!\\\\n', '\\\\n', 'It does seem to be a little out of the common, he remarked, calmly.\\\\n', 'Would you mind reading it to me aloud?\\\\n', '\\\\n', 'This is the letter which I read to him----\\\\n', '\\\\n', '\\\\n', 'MY DEAR MR. SHERLOCK HOLMES,--\\\\n', '\\\\n', 'There has been a bad business during the night at 3, Lauriston Gardens,\\\\n', 'off the Brixton Road. Our man on the beat saw a light there about two in\\\\n', 'the morning, and as the house was an empty one, suspected that something\\\\n', 'was amiss. He found the door open, and in the front room, which is bare\\\\n', 'of furniture, discovered the body of a gentleman, well dressed, and\\\\n', 'having cards in his pocket bearing the name of Enoch J. Drebber,\\\\n', 'Cleveland, Ohio, U.S.A. There had been no robbery, nor is there any\\\\n', 'evidence as to how the man met his death. There are marks of blood in\\\\n', 'the room, but there is no wound upon his person. We are at a loss as to\\\\n', 'how he came into the empty house; indeed, the whole affair is a puzzler.\\\\n', 'If you can come round to the house any time before twelve, you will find\\\\n', 'me there. I have left everything _in statu quo_ until I hear from you.\\\\n', 'If you are unable to come I shall give you fuller details, and would\\\\n', 'esteem it a great kindness if you would favour me with your opinion.\\\\n', 'Yours faithfully,\\\\n', '\\\\n', 'TOBIAS GREGSON.\\\\n', '\\\\n', '\\\\n', 'Gregson is the smartest of the Scotland Yarders, my friend remarked;\\\\n', 'he and Lestrade are the pick of a bad lot. They are both quick and\\\\n', 'energetic, but conventional--shockingly so. They have their knives\\\\n', 'into one another, too. They are as jealous as a pair of professional\\\\n', 'beauties. There will be some fun over this case if they are both put\\\\n', 'upon the scent.\\\\n', '\\\\n', 'I was amazed at the calm way in which he rippled on. Surely there is\\\\n', 'not a moment to be lost, I cried, shall I go and order you a cab?\\\\n', '\\\\n', 'Im not sure about whether I shall go. I am the most incurably lazy\\\\n', 'devil that ever stood in shoe leather--that is, when the fit is on me,\\\\n', 'for I can be spry enough at times.\\\\n', '\\\\n', 'Why, it is just such a chance as you have been longing for.\\\\n', '\\\\n', 'My dear fellow, what does it matter to me. Supposing I unravel the\\\\n', 'whole matter, you may be sure that Gregson, Lestrade, and Co. will\\\\n', 'pocket all the credit. That comes of being an unofficial personage.\\\\n', '\\\\n', 'But he begs you to help him.\\\\n', '\\\\n', 'Yes. He knows that I am his superior, and acknowledges it to me; but\\\\n', 'he would cut his tongue out before he would own it to any third person.\\\\n', 'However, we may as well go and have a look. I shall work it out on my\\\\n', 'own hook. I may have a laugh at them if I have nothing else. Come on!\\\\n', '\\\\n', 'He hustled on his overcoat, and bustled about in a way that showed that\\\\n', 'an energetic fit had superseded the apathetic one.\\\\n', '\\\\n', 'Get your hat, he said.\\\\n', '\\\\n', 'You wish me to come?\\\\n', '\\\\n', 'Yes, if you have nothing better to do. A minute later we were both in\\\\n', 'a hansom, driving furiously for the Brixton Road.\\\\n', '\\\\n', 'It was a foggy, cloudy morning, and a dun-coloured veil hung over the\\\\n', 'house-tops, looking like the reflection of the mud-coloured streets\\\\n', 'beneath. My companion was in the best of spirits, and prattled away\\\\n', 'about Cremona fiddles, and the difference between a Stradivarius and\\\\n', 'an Amati. As for myself, I was silent, for the dull weather and the\\\\n', 'melancholy business upon which we were engaged, depressed my spirits.\\\\n', '\\\\n', 'You dont seem to give much thought to the matter in hand, I said at\\\\n', 'last, interrupting Holmes musical disquisition.\\\\n', '\\\\n', 'No data yet, he answered. It is a capital mistake to theorize before\\\\n', 'you have all the evidence. It biases the judgment.\\\\n', '\\\\n', 'You will have your data soon, I remarked, pointing with my finger;\\\\n', 'this is the Brixton Road, and that is the house, if I am not very much\\\\n', 'mistaken.\\\\n', '\\\\n', 'So it is. Stop, driver, stop! We were still a hundred yards or so from\\\\n', 'it, but he insisted upon our alighting, and we finished our journey upon\\\\n', 'foot.\\\\n', '\\\\n', 'Number 3, Lauriston Gardens wore an ill-omened and minatory look. It was\\\\n', 'one of four which stood back some little way from the street, two being\\\\n', 'occupied and two empty. The latter looked out with three tiers of vacant\\\\n', 'melancholy windows, which were blank and dreary, save that here and\\\\n', 'there a To Let card had developed like a cataract upon the bleared\\\\n', 'panes. A small garden sprinkled over with a scattered eruption of sickly\\\\n', 'plants separated each of these houses from the street, and was traversed\\\\n', 'by a narrow pathway, yellowish in colour, and consisting apparently of a\\\\n', 'mixture of clay and of gravel. The whole place was very sloppy from the\\\\n', 'rain which had fallen through the night. The garden was bounded by a\\\\n', 'three-foot brick wall with a fringe of wood rails upon the top, and\\\\n', 'against this wall was leaning a stalwart police constable, surrounded by\\\\n', 'a small knot of loafers, who craned their necks and strained their eyes\\\\n', 'in the vain hope of catching some glimpse of the proceedings within.\\\\n', '\\\\n', 'I had imagined that Sherlock Holmes would at once have hurried into the\\\\n', 'house and plunged into a study of the mystery. Nothing appeared to be\\\\n', 'further from his intention. With an air of nonchalance which, under the\\\\n', 'circumstances, seemed to me to border upon affectation, he lounged up\\\\n', 'and down the pavement, and gazed vacantly at the ground, the sky, the\\\\n', 'opposite houses and the line of railings. Having finished his scrutiny,\\\\n', 'he proceeded slowly down the path, or rather down the fringe of grass\\\\n', 'which flanked the path, keeping his eyes riveted upon the ground. Twice\\\\n', 'he stopped, and once I saw him smile, and heard him utter an exclamation\\\\n', 'of satisfaction. There were many marks of footsteps upon the wet clayey\\\\n', 'soil, but since the police had been coming and going over it, I was\\\\n', 'unable to see how my companion could hope to learn anything from it.\\\\n', 'Still I had had such extraordinary evidence of the quickness of his\\\\n', 'perceptive faculties, that I had no doubt that he could see a great deal\\\\n', 'which was hidden from me.\\\\n', '\\\\n', 'At the door of the house we were met by a tall, white-faced,\\\\n', 'flaxen-haired man, with a notebook in his hand, who rushed forward and\\\\n', 'wrung my companions hand with effusion. It is indeed kind of you to\\\\n', 'come, he said, I have had everything left untouched.\\\\n', '\\\\n', 'Except that! my friend answered, pointing at the pathway. If a herd\\\\n', 'of buffaloes had passed along there could not be a greater mess. No\\\\n', 'doubt, however, you had drawn your own conclusions, Gregson, before you\\\\n', 'permitted this.\\\\n', '\\\\n', 'I have had so much to do inside the house, the detective said\\\\n', 'evasively. My colleague, Mr. Lestrade, is here. I had relied upon him\\\\n', 'to look after this.\\\\n', '\\\\n', 'Holmes glanced at me and raised his eyebrows sardonically. With two\\\\n', 'such men as yourself and Lestrade upon the ground, there will not be\\\\n', 'much for a third party to find out, he said.\\\\n', '\\\\n', 'Gregson rubbed his hands in a self-satisfied way. I think we have done\\\\n', 'all that can be done, he answered; its a queer case though, and I\\\\n', 'knew your taste for such things.\\\\n', '\\\\n', 'You did not come here in a cab? asked Sherlock Holmes.\\\\n', '\\\\n', 'No, sir.\\\\n', '\\\\n', 'Nor Lestrade?\\\\n', '\\\\n', 'No, sir.\\\\n', '\\\\n', 'Then let us go and look at the room. With which inconsequent remark he\\\\n', 'strode on into the house, followed by Gregson, whose features expressed\\\\n', 'his astonishment.\\\\n', '\\\\n', 'A short passage, bare planked and dusty, led to the kitchen and offices.\\\\n', 'Two doors opened out of it to the left and to the right. One of these\\\\n', 'had obviously been closed for many weeks. The other belonged to the\\\\n', 'dining-room, which was the apartment in which the mysterious affair had\\\\n', 'occurred. Holmes walked in, and I followed him with that subdued feeling\\\\n', 'at my heart which the presence of death inspires.\\\\n', '\\\\n', 'It was a large square room, looking all the larger from the absence\\\\n', 'of all furniture. A vulgar flaring paper adorned the walls, but it was\\\\n', 'blotched in places with mildew, and here and there great strips had\\\\n', 'become detached and hung down, exposing the yellow plaster beneath.\\\\n', 'Opposite the door was a showy fireplace, surmounted by a mantelpiece of\\\\n', 'imitation white marble. On one corner of this was stuck the stump of a\\\\n', 'red wax candle. The solitary window was so dirty that the light was\\\\n', 'hazy and uncertain, giving a dull grey tinge to everything, which was\\\\n', 'intensified by the thick layer of dust which coated the whole apartment.\\\\n', '\\\\n', 'All these details I observed afterwards. At present my attention was\\\\n', 'centred upon the single grim motionless figure which lay stretched upon\\\\n', 'the boards, with vacant sightless eyes staring up at the discoloured\\\\n', 'ceiling. It was that of a man about forty-three or forty-four years of\\\\n', 'age, middle-sized, broad shouldered, with crisp curling black hair, and\\\\n', 'a short stubbly beard. He was dressed in a heavy broadcloth frock coat\\\\n', 'and waistcoat, with light-coloured trousers, and immaculate collar\\\\n', 'and cuffs. A top hat, well brushed and trim, was placed upon the floor\\\\n', 'beside him. His hands were clenched and his arms thrown abroad, while\\\\n', 'his lower limbs were interlocked as though his death struggle had been a\\\\n', 'grievous one. On his rigid face there stood an expression of horror,\\\\n', 'and as it seemed to me, of hatred, such as I have never seen upon human\\\\n', 'features. This malignant and terrible contortion, combined with the low\\\\n', 'forehead, blunt nose, and prognathous jaw gave the dead man a singularly\\\\n', 'simious and ape-like appearance, which was increased by his writhing,\\\\n', 'unnatural posture. I have seen death in many forms, but never has\\\\n', 'it appeared to me in a more fearsome aspect than in that dark grimy\\\\n', 'apartment, which looked out upon one of the main arteries of suburban\\\\n', 'London.\\\\n', '\\\\n', 'Lestrade, lean and ferret-like as ever, was standing by the doorway, and\\\\n', 'greeted my companion and myself.\\\\n', '\\\\n', 'This case will make a stir, sir, he remarked. It beats anything I\\\\n', 'have seen, and I am no chicken.\\\\n', '\\\\n', 'There is no clue? said Gregson.\\\\n', '\\\\n', 'None at all, chimed in Lestrade.\\\\n', '\\\\n', 'Sherlock Holmes approached the body, and, kneeling down, examined it\\\\n', 'intently. You are sure that there is no wound? he asked, pointing to\\\\n', 'numerous gouts and splashes of blood which lay all round.\\\\n', '\\\\n', 'Positive! cried both detectives.\\\\n', '\\\\n', 'Then, of course, this blood belongs to a second individual--[8]\\\\n', 'presumably the murderer, if murder has been committed. It reminds me of\\\\n', 'the circumstances attendant on the death of Van Jansen, in Utrecht, in\\\\n', 'the year 34. Do you remember the case, Gregson?\\\\n', '\\\\n', 'No, sir.\\\\n', '\\\\n', 'Read it up--you really should. There is nothing new under the sun. It\\\\n', 'has all been done before.\\\\n', '\\\\n', 'As he spoke, his nimble fingers were flying here, there, and everywhere,\\\\n', 'feeling, pressing, unbuttoning, examining, while his eyes wore the same\\\\n', 'far-away expression which I have already remarked upon. So swiftly was\\\\n', 'the examination made, that one would hardly have guessed the minuteness\\\\n', 'with which it was conducted. Finally, he sniffed the dead mans lips,\\\\n', 'and then glanced at the soles of his patent leather boots.\\\\n', '\\\\n', 'He has not been moved at all? he asked.\\\\n', '\\\\n', 'No more than was necessary for the purposes of our examination.\\\\n', '\\\\n', 'You can take him to the mortuary now, he said. There is nothing more\\\\n', 'to be learned.\\\\n', '\\\\n', 'Gregson had a stretcher and four men at hand. At his call they entered\\\\n', 'the room, and the stranger was lifted and carried out. As they raised\\\\n', 'him, a ring tinkled down and rolled across the floor. Lestrade grabbed\\\\n', 'it up and stared at it with mystified eyes.\\\\n', '\\\\n', 'Theres been a woman here, he cried. Its a womans wedding-ring.\\\\n', '\\\\n', 'He held it out, as he spoke, upon the palm of his hand. We all gathered\\\\n', 'round him and gazed at it. There could be no doubt that that circlet of\\\\n', 'plain gold had once adorned the finger of a bride.\\\\n', '\\\\n', 'This complicates matters, said Gregson. Heaven knows, they were\\\\n', 'complicated enough before.\\\\n', '\\\\n', 'Youre sure it doesnt simplify them? observed Holmes. Theres\\\\n', 'nothing to be learned by staring at it. What did you find in his\\\\n', 'pockets?\\\\n', '\\\\n', 'We have it all here, said Gregson, pointing to a litter of objects\\\\n', 'upon one of the bottom steps of the stairs. A gold watch, No. 97163, by\\\\n', 'Barraud, of London. Gold Albert chain, very heavy and solid. Gold ring,\\\\n', 'with masonic device. Gold pin--bull-dogs head, with rubies as eyes.\\\\n', 'Russian leather card-case, with cards of Enoch J. Drebber of Cleveland,\\\\n', 'corresponding with the E. J. D. upon the linen. No purse, but loose\\\\n', 'money to the extent of seven pounds thirteen. Pocket edition of\\\\n', 'Boccaccios Decameron, with name of Joseph Stangerson upon the\\\\n', 'fly-leaf. Two letters--one addressed to E. J. Drebber and one to Joseph\\\\n', 'Stangerson.\\\\n', '\\\\n', 'At what address?\\\\n', '\\\\n', 'American Exchange, Strand--to be left till called for. They are both\\\\n', 'from the Guion Steamship Company, and refer to the sailing of their\\\\n', 'boats from Liverpool. It is clear that this unfortunate man was about to\\\\n', 'return to New York.\\\\n', '\\\\n', 'Have you made any inquiries as to this man, Stangerson?\\\\n', '\\\\n', 'I did it at once, sir, said Gregson. I have had advertisements\\\\n', 'sent to all the newspapers, and one of my men has gone to the American\\\\n', 'Exchange, but he has not returned yet.\\\\n', '\\\\n', 'Have you sent to Cleveland?\\\\n', '\\\\n', 'We telegraphed this morning.\\\\n', '\\\\n', 'How did you word your inquiries?\\\\n', '\\\\n', 'We simply detailed the circumstances, and said that we should be glad\\\\n', 'of any information which could help us.\\\\n', '\\\\n', 'You did not ask for particulars on any point which appeared to you to\\\\n', 'be crucial?\\\\n', '\\\\n', 'I asked about Stangerson.\\\\n', '\\\\n', 'Nothing else? Is there no circumstance on which this whole case appears\\\\n', 'to hinge? Will you not telegraph again?\\\\n', '\\\\n', 'I have said all I have to say, said Gregson, in an offended voice.\\\\n', '\\\\n', 'Sherlock Holmes chuckled to himself, and appeared to be about to make\\\\n', 'some remark, when Lestrade, who had been in the front room while we\\\\n', 'were holding this conversation in the hall, reappeared upon the scene,\\\\n', 'rubbing his hands in a pompous and self-satisfied manner.\\\\n', '\\\\n', 'Mr. Gregson, he said, I have just made a discovery of the highest\\\\n', 'importance, and one which would have been overlooked had I not made a\\\\n', 'careful examination of the walls.\\\\n', '\\\\n', 'The little mans eyes sparkled as he spoke, and he was evidently in\\\\n', 'a state of suppressed exultation at having scored a point against his\\\\n', 'colleague.\\\\n', '\\\\n', 'Come here, he said, bustling back into the room, the atmosphere of\\\\n', 'which felt clearer since the removal of its ghastly inmate. Now, stand\\\\n', 'there!\\\\n', '\\\\n', 'He struck a match on his boot and held it up against the wall.\\\\n', '\\\\n', 'Look at that! he said, triumphantly.\\\\n', '\\\\n', 'I have remarked that the paper had fallen away in parts. In this\\\\n', 'particular corner of the room a large piece had peeled off, leaving a\\\\n', 'yellow square of coarse plastering. Across this bare space there was\\\\n', 'scrawled in blood-red letters a single word--\\\\n', '\\\\n', '                         RACHE.\\\\n', '\\\\n', '\\\\n', 'What do you think of that? cried the detective, with the air of a\\\\n', 'showman exhibiting his show. This was overlooked because it was in the\\\\n', 'darkest corner of the room, and no one thought of looking there. The\\\\n', 'murderer has written it with his or her own blood. See this smear where\\\\n', 'it has trickled down the wall! That disposes of the idea of suicide\\\\n', 'anyhow. Why was that corner chosen to write it on? I will tell you. See\\\\n', 'that candle on the mantelpiece. It was lit at the time, and if it was\\\\n', 'lit this corner would be the brightest instead of the darkest portion of\\\\n', 'the wall.\\\\n', '\\\\n', 'And what does it mean now that you _have_ found it? asked Gregson in a\\\\n', 'depreciatory voice.\\\\n', '\\\\n', 'Mean? Why, it means that the writer was going to put the female name\\\\n', 'Rachel, but was disturbed before he or she had time to finish. You mark\\\\n', 'my words, when this case comes to be cleared up you will find that a\\\\n', 'woman named Rachel has something to do with it. Its all very well for\\\\n', 'you to laugh, Mr. Sherlock Holmes. You may be very smart and clever, but\\\\n', 'the old hound is the best, when all is said and done.\\\\n', '\\\\n', 'I really beg your pardon! said my companion, who had ruffled the\\\\n', 'little mans temper by bursting into an explosion of laughter. You\\\\n', 'certainly have the credit of being the first of us to find this out,\\\\n', 'and, as you say, it bears every mark of having been written by the other\\\\n', 'participant in last nights mystery. I have not had time to examine this\\\\n', 'room yet, but with your permission I shall do so now.\\\\n', '\\\\n', 'As he spoke, he whipped a tape measure and a large round magnifying\\\\n', 'glass from his pocket. With these two implements he trotted noiselessly\\\\n', 'about the room, sometimes stopping, occasionally kneeling, and once\\\\n', 'lying flat upon his face. So engrossed was he with his occupation that\\\\n', 'he appeared to have forgotten our presence, for he chattered away to\\\\n', 'himself under his breath the whole time, keeping up a running fire\\\\n', 'of exclamations, groans, whistles, and little cries suggestive of\\\\n', 'encouragement and of hope. As I watched him I was irresistibly reminded\\\\n', 'of a pure-blooded well-trained foxhound as it dashes backwards and\\\\n', 'forwards through the covert, whining in its eagerness, until it comes\\\\n', 'across the lost scent. For twenty minutes or more he continued his\\\\n', 'researches, measuring with the most exact care the distance between\\\\n', 'marks which were entirely invisible to me, and occasionally applying his\\\\n', 'tape to the walls in an equally incomprehensible manner. In one place\\\\n', 'he gathered up very carefully a little pile of grey dust from the floor,\\\\n', 'and packed it away in an envelope. Finally, he examined with his glass\\\\n', 'the word upon the wall, going over every letter of it with the most\\\\n', 'minute exactness. This done, he appeared to be satisfied, for he\\\\n', 'replaced his tape and his glass in his pocket.\\\\n', '\\\\n', 'They say that genius is an infinite capacity for taking pains, he\\\\n', 'remarked with a smile. Its a very bad definition, but it does apply to\\\\n', 'detective work.\\\\n', '\\\\n', 'Gregson and Lestrade had watched the manoeuvres [9] of their amateur\\\\n', 'companion with considerable curiosity and some contempt. They evidently\\\\n', 'failed to appreciate the fact, which I had begun to realize, that\\\\n', 'Sherlock Holmes smallest actions were all directed towards some\\\\n', 'definite and practical end.\\\\n', '\\\\n', 'What do you think of it, sir? they both asked.\\\\n', '\\\\n', 'It would be robbing you of the credit of the case if I was to presume\\\\n', 'to help you, remarked my friend. You are doing so well now that it\\\\n', 'would be a pity for anyone to interfere. There was a world of\\\\n', 'sarcasm in his voice as he spoke. If you will let me know how your\\\\n', 'investigations go, he continued, I shall be happy to give you any help\\\\n', 'I can. In the meantime I should like to speak to the constable who found\\\\n', 'the body. Can you give me his name and address?\\\\n', '\\\\n', 'Lestrade glanced at his note-book. John Rance, he said. He is off\\\\n', 'duty now. You will find him at 46, Audley Court, Kennington Park Gate.\\\\n', '\\\\n', 'Holmes took a note of the address.\\\\n', '\\\\n', 'Come along, Doctor, he said; we shall go and look him up. Ill tell\\\\n', 'you one thing which may help you in the case, he continued, turning to\\\\n', 'the two detectives. There has been murder done, and the murderer was a\\\\n', 'man. He was more than six feet high, was in the prime of life, had\\\\n', 'small feet for his height, wore coarse, square-toed boots and smoked a\\\\n', 'Trichinopoly cigar. He came here with his victim in a four-wheeled cab,\\\\n', 'which was drawn by a horse with three old shoes and one new one on his\\\\n', 'off fore leg. In all probability the murderer had a florid face, and the\\\\n', 'finger-nails of his right hand were remarkably long. These are only a\\\\n', 'few indications, but they may assist you.\\\\n', '\\\\n', 'Lestrade and Gregson glanced at each other with an incredulous smile.\\\\n', '\\\\n', 'If this man was murdered, how was it done? asked the former.\\\\n', '\\\\n', 'Poison, said Sherlock Holmes curtly, and strode off. One other thing,\\\\n', 'Lestrade, he added, turning round at the door: Rache, is the German\\\\n', 'for revenge; so dont lose your time looking for Miss Rachel.\\\\n', '\\\\n', 'With which Parthian shot he walked away, leaving the two rivals\\\\n', 'open-mouthed behind him.\\\\n', '\\\\n', '\\\\n', '\\\\n', '\\\\n', 'CHAPTER IV. WHAT JOHN RANCE HAD TO TELL.\\\\n', '\\\\n', '\\\\n', 'IT was one oclock when we left No. 3, Lauriston Gardens. Sherlock\\\\n', 'Holmes led me to the nearest telegraph office, whence he dispatched a\\\\n', 'long telegram. He then hailed a cab, and ordered the driver to take us\\\\n', 'to the address given us by Lestrade.\\\\n', '\\\\n', 'There is nothing like first hand evidence, he remarked; as a matter\\\\n', 'of fact, my mind is entirely made up upon the case, but still we may as\\\\n', 'well learn all that is to be learned.\\\\n', '\\\\n', 'You amaze me, Holmes, said I. Surely you are not as sure as you\\\\n', 'pretend to be of all those particulars which you gave.\\\\n', '\\\\n', 'Theres no room for a mistake, he answered. The very first thing\\\\n', 'which I observed on arriving there was that a cab had made two ruts with\\\\n', 'its wheels close to the curb. Now, up to last night, we have had no rain\\\\n', 'for a week, so that those wheels which left such a deep impression must\\\\n', 'have been there during the night. There were the marks of the horses\\\\n', 'hoofs, too, the outline of one of which was far more clearly cut than\\\\n', 'that of the other three, showing that that was a new shoe. Since the cab\\\\n', 'was there after the rain began, and was not there at any time during the\\\\n', 'morning--I have Gregsons word for that--it follows that it must have\\\\n', 'been there during the night, and, therefore, that it brought those two\\\\n', 'individuals to the house.\\\\n', '\\\\n', 'That seems simple enough, said I; but how about the other mans\\\\n', 'height?\\\\n', '\\\\n', 'Why, the height of a man, in nine cases out of ten, can be told from\\\\n', 'the length of his stride. It is a simple calculation enough, though\\\\n', 'there is no use my boring you with figures. I had this fellows stride\\\\n', 'both on the clay outside and on the dust within. Then I had a way of\\\\n', 'checking my calculation. When a man writes on a wall, his instinct leads\\\\n', 'him to write about the level of his own eyes. Now that writing was just\\\\n', 'over six feet from the ground. It was childs play.\\\\n', '\\\\n', 'And his age? I asked.\\\\n', '\\\\n', 'Well, if a man can stride four and a-half feet without the smallest\\\\n', 'effort, he cant be quite in the sere and yellow. That was the breadth\\\\n', 'of a puddle on the garden walk which he had evidently walked across.\\\\n', 'Patent-leather boots had gone round, and Square-toes had hopped over.\\\\n', 'There is no mystery about it at all. I am simply applying to ordinary\\\\n', 'life a few of those precepts of observation and deduction which I\\\\n', 'advocated in that article. Is there anything else that puzzles you?\\\\n', '\\\\n', 'The finger nails and the Trichinopoly, I suggested.\\\\n', '\\\\n', 'The writing on the wall was done with a mans forefinger dipped in\\\\n', 'blood. My glass allowed me to observe that the plaster was slightly\\\\n', 'scratched in doing it, which would not have been the case if the mans\\\\n', 'nail had been trimmed. I gathered up some scattered ash from the floor.\\\\n', 'It was dark in colour and flakey--such an ash as is only made by a\\\\n', 'Trichinopoly. I have made a special study of cigar ashes--in fact, I\\\\n', 'have written a monograph upon the subject. I flatter myself that I can\\\\n', 'distinguish at a glance the ash of any known brand, either of cigar\\\\n', 'or of tobacco. It is just in such details that the skilled detective\\\\n', 'differs from the Gregson and Lestrade type.\\\\n', '\\\\n', 'And the florid face? I asked.\\\\n', '\\\\n', 'Ah, that was a more daring shot, though I have no doubt that I was\\\\n', 'right. You must not ask me that at the present state of the affair.\\\\n', '\\\\n', 'I passed my hand over my brow. My head is in a whirl, I remarked; the\\\\n', 'more one thinks of it the more mysterious it grows. How came these two\\\\n', 'men--if there were two men--into an empty house? What has become of the\\\\n', 'cabman who drove them? How could one man compel another to take poison?\\\\n', 'Where did the blood come from? What was the object of the murderer,\\\\n', 'since robbery had no part in it? How came the womans ring there? Above\\\\n', 'all, why should the second man write up the German word RACHE before\\\\n', 'decamping? I confess that I cannot see any possible way of reconciling\\\\n', 'all these facts.\\\\n', '\\\\n', 'My companion smiled approvingly.\\\\n', '\\\\n', 'You sum up the difficulties of the situation succinctly and well, he\\\\n', 'said. There is much that is still obscure, though I have quite made up\\\\n', 'my mind on the main facts. As to poor Lestrades discovery it was simply\\\\n', 'a blind intended to put the police upon a wrong track, by suggesting\\\\n', 'Socialism and secret societies. It was not done by a German. The A, if\\\\n', 'you noticed, was printed somewhat after the German fashion. Now, a real\\\\n', 'German invariably prints in the Latin character, so that we may safely\\\\n', 'say that this was not written by one, but by a clumsy imitator who\\\\n', 'overdid his part. It was simply a ruse to divert inquiry into a wrong\\\\n', 'channel. Im not going to tell you much more of the case, Doctor. You\\\\n', 'know a conjuror gets no credit when once he has explained his trick,\\\\n', 'and if I show you too much of my method of working, you will come to the\\\\n', 'conclusion that I am a very ordinary individual after all.\\\\n', '\\\\n', 'I shall never do that, I answered; you have brought detection as near\\\\n', 'an exact science as it ever will be brought in this world.\\\\n', '\\\\n', 'My companion flushed up with pleasure at my words, and the earnest way\\\\n', 'in which I uttered them. I had already observed that he was as sensitive\\\\n', 'to flattery on the score of his art as any girl could be of her beauty.\\\\n', '\\\\n', 'Ill tell you one other thing, he said. Patent leathers [10] and\\\\n', 'Square-toes came in the same cab, and they walked down the pathway\\\\n', 'together as friendly as possible--arm-in-arm, in all probability.\\\\n', 'When they got inside they walked up and down the room--or rather,\\\\n', 'Patent-leathers stood still while Square-toes walked up and down. I\\\\n', 'could read all that in the dust; and I could read that as he walked he\\\\n', 'grew more and more excited. That is shown by the increased length of his\\\\n', 'strides. He was talking all the while, and working himself up, no doubt,\\\\n', 'into a fury. Then the tragedy occurred. Ive told you all I know myself\\\\n', 'now, for the rest is mere surmise and conjecture. We have a good working\\\\n', 'basis, however, on which to start. We must hurry up, for I want to go to\\\\n', 'Halles concert to hear Norman Neruda this afternoon.\\\\n', '\\\\n', 'This conversation had occurred while our cab had been threading its way\\\\n', 'through a long succession of dingy streets and dreary by-ways. In the\\\\n', 'dingiest and dreariest of them our driver suddenly came to a stand.\\\\n', 'Thats Audley Court in there, he said, pointing to a narrow slit in\\\\n', 'the line of dead-coloured brick. Youll find me here when you come\\\\n', 'back.\\\\n', '\\\\n', 'Audley Court was not an attractive locality. The narrow passage led us\\\\n', 'into a quadrangle paved with flags and lined by sordid dwellings. We\\\\n', 'picked our way among groups of dirty children, and through lines of\\\\n', 'discoloured linen, until we came to Number 46, the door of which\\\\n', 'was decorated with a small slip of brass on which the name Rance was\\\\n', 'engraved. On enquiry we found that the constable was in bed, and we were\\\\n', 'shown into a little front parlour to await his coming.\\\\n', '\\\\n', 'He appeared presently, looking a little irritable at being disturbed in\\\\n', 'his slumbers. I made my report at the office, he said.\\\\n', '\\\\n', 'Holmes took a half-sovereign from his pocket and played with it\\\\n', 'pensively. We thought that we should like to hear it all from your own\\\\n', 'lips, he said.\\\\n', '\\\\n', 'I shall be most happy to tell you anything I can, the constable\\\\n', 'answered with his eyes upon the little golden disk.\\\\n', '\\\\n', 'Just let us hear it all in your own way as it occurred.\\\\n', '\\\\n', 'Rance sat down on the horsehair sofa, and knitted his brows as though\\\\n', 'determined not to omit anything in his narrative.\\\\n', '\\\\n', 'Ill tell it ye from the beginning, he said. My time is from ten at\\\\n', 'night to six in the morning. At eleven there was a fight at the White\\\\n', 'Hart; but bar that all was quiet enough on the beat. At one oclock it\\\\n', 'began to rain, and I met Harry Murcher--him who has the Holland Grove\\\\n', 'beat--and we stood together at the corner of Henrietta Street a-talkin.\\\\n', 'Presently--maybe about two or a little after--I thought I would take\\\\n', 'a look round and see that all was right down the Brixton Road. It was\\\\n', 'precious dirty and lonely. Not a soul did I meet all the way down,\\\\n', 'though a cab or two went past me. I was a strollin down, thinkin\\\\n', 'between ourselves how uncommon handy a four of gin hot would be, when\\\\n', 'suddenly the glint of a light caught my eye in the window of that same\\\\n', 'house. Now, I knew that them two houses in Lauriston Gardens was empty\\\\n', 'on account of him that owns them who wont have the drains seen to,\\\\n', 'though the very last tenant what lived in one of them died o typhoid\\\\n', 'fever. I was knocked all in a heap therefore at seeing a light in\\\\n', 'the window, and I suspected as something was wrong. When I got to the\\\\n', 'door----\\\\n', '\\\\n', 'You stopped, and then walked back to the garden gate, my companion\\\\n', 'interrupted. What did you do that for?\\\\n', '\\\\n', 'Rance gave a violent jump, and stared at Sherlock Holmes with the utmost\\\\n', 'amazement upon his features.\\\\n', '\\\\n', 'Why, thats true, sir, he said; though how you come to know it,\\\\n', 'Heaven only knows. Ye see, when I got up to the door it was so still and\\\\n', 'so lonesome, that I thought Id be none the worse for some one with me.\\\\n', 'I aint afeared of anything on this side o the grave; but I thought\\\\n', 'that maybe it was him that died o the typhoid inspecting the drains\\\\n', 'what killed him. The thought gave me a kind o turn, and I walked back\\\\n', 'to the gate to see if I could see Murchers lantern, but there wasnt no\\\\n', 'sign of him nor of anyone else.\\\\n', '\\\\n', 'There was no one in the street?\\\\n', '\\\\n', 'Not a livin soul, sir, nor as much as a dog. Then I pulled myself\\\\n', 'together and went back and pushed the door open. All was quiet inside,\\\\n', 'so I went into the room where the light was a-burnin. There was a\\\\n', 'candle flickerin on the mantelpiece--a red wax one--and by its light I\\\\n', 'saw----\\\\n', '\\\\n', 'Yes, I know all that you saw. You walked round the room several times,\\\\n', 'and you knelt down by the body, and then you walked through and tried\\\\n', 'the kitchen door, and then----\\\\n', '\\\\n', 'John Rance sprang to his feet with a frightened face and suspicion in\\\\n', 'his eyes. Where was you hid to see all that? he cried. It seems to me\\\\n', 'that you knows a deal more than you should.\\\\n', '\\\\n', 'Holmes laughed and threw his card across the table to the constable.\\\\n', 'Dont get arresting me for the murder, he said. I am one of the\\\\n', 'hounds and not the wolf; Mr. Gregson or Mr. Lestrade will answer for\\\\n', 'that. Go on, though. What did you do next?\\\\n', '\\\\n', 'Rance resumed his seat, without however losing his mystified expression.\\\\n', 'I went back to the gate and sounded my whistle. That brought Murcher\\\\n', 'and two more to the spot.\\\\n', '\\\\n', 'Was the street empty then?\\\\n', '\\\\n', 'Well, it was, as far as anybody that could be of any good goes.\\\\n', '\\\\n', 'What do you mean?\\\\n', '\\\\n', 'The constables features broadened into a grin. Ive seen many a drunk\\\\n', 'chap in my time, he said, but never anyone so cryin drunk as\\\\n', 'that cove. He was at the gate when I came out, a-leanin up agin the\\\\n', 'railings, and a-singin at the pitch o his lungs about Columbines\\\\n', 'New-fangled Banner, or some such stuff. He couldnt stand, far less\\\\n', 'help.\\\\n', '\\\\n', 'What sort of a man was he? asked Sherlock Holmes.\\\\n', '\\\\n', 'John Rance appeared to be somewhat irritated at this digression. He was\\\\n', 'an uncommon drunk sort o man, he said. Hed ha found hisself in the\\\\n', 'station if we hadnt been so took up.\\\\n', '\\\\n', 'His face--his dress--didnt you notice them? Holmes broke in\\\\n', 'impatiently.\\\\n', '\\\\n', 'I should think I did notice them, seeing that I had to prop him up--me\\\\n', 'and Murcher between us. He was a long chap, with a red face, the lower\\\\n', 'part muffled round----\\\\n', '\\\\n', 'That will do, cried Holmes. What became of him?\\\\n', '\\\\n', 'Wed enough to do without lookin after him, the policeman said, in an\\\\n', 'aggrieved voice. Ill wager he found his way home all right.\\\\n', '\\\\n', 'How was he dressed?\\\\n', '\\\\n', 'A brown overcoat.\\\\n', '\\\\n', 'Had he a whip in his hand?\\\\n', '\\\\n', 'A whip--no.\\\\n', '\\\\n', 'He must have left it behind, muttered my companion. You didnt happen\\\\n', 'to see or hear a cab after that?\\\\n', '\\\\n', 'No.\\\\n', '\\\\n', 'Theres a half-sovereign for you, my companion said, standing up and\\\\n', 'taking his hat. I am afraid, Rance, that you will never rise in the\\\\n', 'force. That head of yours should be for use as well as ornament. You\\\\n', 'might have gained your sergeants stripes last night. The man whom you\\\\n', 'held in your hands is the man who holds the clue of this mystery, and\\\\n', 'whom we are seeking. There is no use of arguing about it now; I tell you\\\\n', 'that it is so. Come along, Doctor.\\\\n', '\\\\n', 'We started off for the cab together, leaving our informant incredulous,\\\\n', 'but obviously uncomfortable.\\\\n', '\\\\n', 'The blundering fool, Holmes said, bitterly, as we drove back to our\\\\n', 'lodgings. Just to think of his having such an incomparable bit of good\\\\n', 'luck, and not taking advantage of it.\\\\n', '\\\\n', 'I am rather in the dark still. It is true that the description of this\\\\n', 'man tallies with your idea of the second party in this mystery. But why\\\\n', 'should he come back to the house after leaving it? That is not the way\\\\n', 'of criminals.\\\\n', '\\\\n', 'The ring, man, the ring: that was what he came back for. If we have no\\\\n', 'other way of catching him, we can always bait our line with the ring. I\\\\n', 'shall have him, Doctor--Ill lay you two to one that I have him. I must\\\\n', 'thank you for it all. I might not have gone but for you, and so have\\\\n', 'missed the finest study I ever came across: a study in scarlet, eh?\\\\n', 'Why shouldnt we use a little art jargon. Theres the scarlet thread of\\\\n', 'murder running through the colourless skein of life, and our duty is\\\\n', 'to unravel it, and isolate it, and expose every inch of it. And now\\\\n', 'for lunch, and then for Norman Neruda. Her attack and her bowing\\\\n', 'are splendid. Whats that little thing of Chopins she plays so\\\\n', 'magnificently: Tra-la-la-lira-lira-lay.\\\\n', '\\\\n', 'Leaning back in the cab, this amateur bloodhound carolled away like a\\\\n', 'lark while I meditated upon the many-sidedness of the human mind.\\\\n', '\\\\n', '\\\\n', '\\\\n', '\\\\n', 'CHAPTER V. OUR ADVERTISEMENT BRINGS A VISITOR.\\\\n', '\\\\n', '\\\\n', 'OUR mornings exertions had been too much for my weak health, and I was\\\\n', 'tired out in the afternoon. After Holmes departure for the concert, I\\\\n', 'lay down upon the sofa and endeavoured to get a couple of hours sleep.\\\\n', 'It was a useless attempt. My mind had been too much excited by all that\\\\n', 'had occurred, and the strangest fancies and surmises crowded into\\\\n', 'it. Every time that I closed my eyes I saw before me the distorted\\\\n', 'baboon-like countenance of the murdered man. So sinister was the\\\\n', 'impression which that face had produced upon me that I found it\\\\n', 'difficult to feel anything but gratitude for him who had removed its\\\\n', 'owner from the world. If ever human features bespoke vice of the most\\\\n', 'malignant type, they were certainly those of Enoch J. Drebber, of\\\\n', 'Cleveland. Still I recognized that justice must be done, and that the\\\\n', 'depravity of the victim was no condonment [11] in the eyes of the law.\\\\n', '\\\\n', 'The more I thought of it the more extraordinary did my companions\\\\n', 'hypothesis, that the man had been poisoned, appear. I remembered how he\\\\n', 'had sniffed his lips, and had no doubt that he had detected something\\\\n', 'which had given rise to the idea. Then, again, if not poison, what\\\\n', 'had caused the mans death, since there was neither wound nor marks of\\\\n', 'strangulation? But, on the other hand, whose blood was that which lay so\\\\n', 'thickly upon the floor? There were no signs of a struggle, nor had the\\\\n', 'victim any weapon with which he might have wounded an antagonist. As\\\\n', 'long as all these questions were unsolved, I felt that sleep would be\\\\n', 'no easy matter, either for Holmes or myself. His quiet self-confident\\\\n', 'manner convinced me that he had already formed a theory which explained\\\\n', 'all the facts, though what it was I could not for an instant conjecture.\\\\n', '\\\\n', 'He was very late in returning--so late, that I knew that the concert\\\\n', 'could not have detained him all the time. Dinner was on the table before\\\\n', 'he appeared.\\\\n', '\\\\n', 'It was magnificent, he said, as he took his seat. Do you remember\\\\n', 'what Darwin says about music? He claims that the power of producing and\\\\n', 'appreciating it existed among the human race long before the power of\\\\n', 'speech was arrived at. Perhaps that is why we are so subtly influenced\\\\n', 'by it. There are vague memories in our souls of those misty centuries\\\\n', 'when the world was in its childhood.\\\\n', '\\\\n', 'Thats rather a broad idea, I remarked.\\\\n', '\\\\n', 'Ones ideas must be as broad as Nature if they are to interpret\\\\n', 'Nature, he answered. Whats the matter? Youre not looking quite\\\\n', 'yourself. This Brixton Road affair has upset you.\\\\n', '\\\\n', 'To tell the truth, it has, I said. I ought to be more case-hardened\\\\n', 'after my Afghan experiences. I saw my own comrades hacked to pieces at\\\\n', 'Maiwand without losing my nerve.\\\\n', '\\\\n', 'I can understand. There is a mystery about this which stimulates the\\\\n', 'imagination; where there is no imagination there is no horror. Have you\\\\n', 'seen the evening paper?\\\\n', '\\\\n', 'No.\\\\n', '\\\\n', 'It gives a fairly good account of the affair. It does not mention the\\\\n', 'fact that when the man was raised up, a womans wedding ring fell upon\\\\n', 'the floor. It is just as well it does not.\\\\n', '\\\\n', 'Why?\\\\n', '\\\\n', 'Look at this advertisement, he answered. I had one sent to every\\\\n', 'paper this morning immediately after the affair.\\\\n', '\\\\n', 'He threw the paper across to me and I glanced at the place indicated. It\\\\n', 'was the first announcement in the Found column. In Brixton Road,\\\\n', 'this morning, it ran, a plain gold wedding ring, found in the roadway\\\\n', 'between the White Hart Tavern and Holland Grove. Apply Dr. Watson\", '', \" life.\\\\n', '\\\\n', 'What is it? asked Sherlock Holmes.\\\\n', '\\\\n', 'Why, this article, I said, pointing at it with my egg spoon as I sat\\\\n', 'down to my breakfast. I see that you have read it since you have marked\\\\n', 'it. I dont deny that it is smartly written. It irritates me though. It\\\\n', 'is evidently the theory of some arm-chair lounger who evolves all these\\\\n', 'neat little paradoxes in the seclusion of his own study. It is not\\\\n', 'practical. I should like to see him clapped down in a third class\\\\n', 'carriage on the Underground, and asked to give the trades of all his\\\\n', 'fellow-travellers. I would lay a thousand to one against him.\\\\n', '\\\\n', 'You would lose your money, Sherlock Holmes remarked calmly. As for\\\\n', 'the article I wrote it myself.\\\\n', '\\\\n', 'You!\\\\n', '\\\\n', 'Yes, I have a turn both for observation and for deduction. The\\\\n', 'theories which I have expressed there, and which appear to you to be so\\\\n', 'chimerical are really extremely practical--so practical that I depend\\\\n', 'upon them for my bread and cheese.\\\\n', '\\\\n', 'And how? I asked involuntarily.\\\\n', '\\\\n', 'Well, I have a trade of my own. I suppose I am the only one in the\\\\n', 'world. Im a consulting detective, if you can understand what that is.\\\\n', 'Here in London we have lots of Government detectives and lots of private\\\\n', 'ones. When these fellows are at fault they come to me, and I manage to\\\\n', 'put them on the right scent. They lay all the evidence before me, and I\\\\n', 'am generally able, by the help of my knowledge of the history of\\\\n', 'crime, to set them straight. There is a strong family resemblance about\\\\n', 'misdeeds, and if you have all the details of a thousand at your finger\\\\n', 'ends, it is odd if you cant unravel the thousand and first. Lestrade\\\\n', 'is a well-known detective. He got himself into a fog recently over a\\\\n', 'forgery case, and that was what brought him here.\\\\n', '\\\\n', 'And these other people?\\\\n', '\\\\n', 'They are mostly sent on by private inquiry agencies. They are\\\\n', 'all people who are in trouble about something, and want a little\\\\n', 'enlightening. I listen to their story, they listen to my comments, and\\\\n', 'then I pocket my fee.\\\\n', '\\\\n', 'But do you mean to say, I said, that without leaving your room you\\\\n', 'can unravel some knot which other men can make nothing of, although they\\\\n', 'have seen every detail for themselves?\\\\n', '\\\\n', 'Quite so. I have a kind of intuition that way. Now and again a case\\\\n', 'turns up which is a little more complex. Then I have to bustle about and\\\\n', 'see things with my own eyes. You see I have a lot of special knowledge\\\\n', 'which I apply to the problem, and which facilitates matters wonderfully.\\\\n', 'Those rules of deduction laid down in that article which aroused your\\\\n', 'scorn, are invaluable to me in practical work. Observation with me is\\\\n', 'second nature. You appeared to be surprised when I told you, on our\\\\n', 'first meeting, that you had come from Afghanistan.\\\\n', '\\\\n', 'You were told, no doubt.\\\\n', '\\\\n', 'Nothing of the sort. I _knew_ you came from Afghanistan. From long\\\\n', 'habit the train of thoughts ran so swiftly through my mind, that I\\\\n', 'arrived at the conclusion without being conscious of intermediate steps.\\\\n', 'There were such steps, however. The train of reasoning ran, Here is a\\\\n', 'gentleman of a medical type, but with the air of a military man. Clearly\\\\n', 'an army doctor, then. He has just come from the tropics, for his face is\\\\n', 'dark, and that is not the natural tint of his skin, for his wrists are\\\\n', 'fair. He has undergone hardship and sickness, as his haggard face says\\\\n', 'clearly. His left arm has been injured. He holds it in a stiff and\\\\n', 'unnatural manner. Where in the tropics could an English army doctor have\\\\n', 'seen much hardship and got his arm wounded? Clearly in Afghanistan. The\\\\n', 'whole train of thought did not occupy a second. I then remarked that you\\\\n', 'came from Afghanistan, and you were astonished.\\\\n', '\\\\n', 'It is simple enough as you explain it, I said, smiling. You remind\\\\n', 'me of Edgar Allen Poes Dupin. I had no idea that such individuals did\\\\n', 'exist outside of stories.\\\\n', '\\\\n', 'Sherlock Holmes rose and lit his pipe. No doubt you think that you are\\\\n', 'complimenting me in comparing me to Dupin, he observed. Now, in my\\\\n', 'opinion, Dupin was a very inferior fellow. That trick of his of breaking\\\\n', 'in on his friends thoughts with an apropos remark after a quarter of\\\\n', 'an hours silence is really very showy and superficial. He had some\\\\n', 'analytical genius, no doubt; but he was by no means such a phenomenon as\\\\n', 'Poe appeared to imagine.\\\\n', '\\\\n', 'Have you read Gaboriaus works? I asked. Does Lecoq come up to your\\\\n', 'idea of a detective?\\\\n', '\\\\n', 'Sherlock Holmes sniffed sardonically. Lecoq was a miserable bungler,\\\\n', ' he said, in an angry voice; he had only one thing to recommend him, and\\\\n', 'that was his energy. That book made me positively ill. The question was\\\\n', 'how to identify an unknown prisoner. I could have done it in twenty-four\\\\n', 'hours. Lecoq took six months or so. It might be made a text-book for\\\\n', 'detectives to teach them what to avoid.\\\\n', '\\\\n', 'I felt rather indignant at having two characters whom I had admired\\\\n', 'treated in this cavalier style. I walked over to the window, and stood\\\\n', 'looking out into the busy street. This fellow may be very clever, I\\\\n', 'said to myself, but he is certainly very conceited.\\\\n', '\\\\n', 'There are no crimes and no criminals in these days, he said,\\\\n', 'querulously. What is the use of having brains in our profession. I know\\\\n', 'well that I have it in me to make my name famous. No man lives or has\\\\n', 'ever lived who has brought the same amount of study and of natural\\\\n', 'talent to the detection of crime which I have done. And what is the\\\\n', 'result? There is no crime to detect, or, at most, some bungling villainy\\\\n', 'with a motive so transparent that even a Scotland Yard official can see\\\\n', 'through it.\\\\n', '\\\\n', 'I was still annoyed at his bumptious style of conversation. I thought it\\\\n', 'best to change the topic.\\\\n', '\\\\n', 'I wonder what that fellow is looking for? I asked, pointing to a\\\\n', 'stalwart, plainly-dressed individual who was walking slowly down the\\\\n', 'other side of the street, looking anxiously at the numbers. He had\\\\n', 'a large blue envelope in his hand, and was evidently the bearer of a\\\\n', 'message.\\\\n', '\\\\n', 'You mean the retired sergeant of Marines, said Sherlock Holmes.\\\\n', '\\\\n', 'Brag and bounce! thought I to myself. He knows that I cannot verify\\\\n', 'his guess.\\\\n', '\\\\n', 'The thought had hardly passed through my mind when the man whom we were\\\\n', 'watching caught sight of the number on our door, and ran rapidly across\\\\n', 'the roadway. We heard a loud knock, a deep voice below, and heavy steps\\\\n', 'ascending the stair.\\\\n', '\\\\n', 'For Mr. Sherlock Holmes, he said, stepping into the room and handing\\\\n', 'my friend the letter.\\\\n', '\\\\n', 'Here was an opportunity of taking the conceit out of him. He little\\\\n', 'thought of this when he made that random shot. May I ask, my lad, I\\\\n', 'said, in the blandest voice, what your trade may be?\\\\n', '\\\\n', 'Commissionaire, sir, he said, gruffly. Uniform away for repairs.\\\\n', '\\\\n', 'And you were? I asked, with a slightly malicious glance at my\\\\n', 'companion.\\\\n', '\\\\n', 'A sergeant, sir, Royal Marine Light Infantry, sir. No answer? Right,\\\\n', 'sir.\\\\n', '\\\\n', 'He clicked his heels together, raised his hand in a salute, and was\\\\n', 'gone.\\\\n', '\\\\n', '\\\\n', '\\\\n', '\\\\n', 'CHAPTER III. THE LAURISTON GARDEN MYSTERY [6]\\\\n', '\\\\n', '\\\\n', 'I CONFESS that I was considerably startled by this fresh proof of the\\\\n', 'practical nature of my companions theories. My respect for his powers\\\\n', 'of analysis increased wondrously. There still remained some lurking\\\\n', 'suspicion in my mind, however, that the whole thing was a pre-arranged\\\\n', 'episode, intended to dazzle me, though what earthly object he could have\\\\n', 'in taking me in was past my comprehension. When I looked at him he\\\\n', 'had finished reading the note, and his eyes had assumed the vacant,\\\\n', 'lack-lustre expression which showed mental abstraction.\\\\n', '\\\\n', 'How in the world did you deduce that? I asked.\\\\n', '\\\\n', 'Deduce what? said he, petulantly.\\\\n', '\\\\n', 'Why, that he was a retired sergeant of Marines.\\\\n', '\\\\n', 'I have no time for trifles, he answered, brusquely; then with a smile,\\\\n', 'Excuse my rudeness. You broke the thread of my thoughts; but perhaps\\\\n', 'it is as well. So you actually were not able to see that that man was a\\\\n', 'sergeant of Marines?\\\\n', '\\\\n', 'No, indeed.\\\\n', '\\\\n', 'It was easier to know it than to explain why I knew it. If you\\\\n', 'were asked to prove that two and two made four, you might find some\\\\n', 'difficulty, and yet you are quite sure of the fact. Even across the\\\\n', 'street I could see a great blue anchor tattooed on the back of the\\\\n', 'fellows hand. That smacked of the sea. He had a military carriage,\\\\n', 'however, and regulation side whiskers. There we have the marine. He was\\\\n', 'a man with some amount of self-importance and a certain air of command.\\\\n', 'You must have observed the way in which he held his head and swung\\\\n', 'his cane. A steady, respectable, middle-aged man, too, on the face of\\\\n', 'him--all facts which led me to believe that he had been a sergeant.\\\\n', '\\\\n', 'Wonderful! I ejaculated.\\\\n', '\\\\n', 'Commonplace, said Holmes, though I thought from his expression that he\\\\n', 'was pleased at my evident surprise and admiration. I said just now that\\\\n', 'there were no criminals. It appears that I am wrong--look at this! He\\\\n', 'threw me over the note which the commissionaire had brought. [7]\\\\n', '\\\\n', 'Why, I cried, as I cast my eye over it, this is terrible!\\\\n', '\\\\n', 'It does seem to be a little out of the common, he remarked, calmly.\\\\n', 'Would you mind reading it to me aloud?\\\\n', '\\\\n', 'This is the letter which I read to him----\\\\n', '\\\\n', '\\\\n', 'MY DEAR MR. SHERLOCK HOLMES,--\\\\n', '\\\\n', 'There has been a bad business during the night at 3, Lauriston Gardens,\\\\n', 'off the Brixton Road. Our man on the beat saw a light there about two in\\\\n', 'the morning, and as the house was an empty one, suspected that something\\\\n', 'was amiss. He found the door open, and in the front room, which is bare\\\\n', 'of furniture, discovered the body of a gentleman, well dressed, and\\\\n', 'having cards in his pocket bearing the name of Enoch J. Drebber,\\\\n', 'Cleveland, Ohio, U.S.A. There had been no robbery, nor is there any\\\\n', 'evidence as to how the man met his death. There are marks of blood in\\\\n', 'the room, but there is no wound upon his person. We are at a loss as to\\\\n', 'how he came into the empty house; indeed, the whole affair is a puzzler.\\\\n', 'If you can come round to the house any time before twelve, you will find\\\\n', 'me there. I have left everything _in statu quo_ until I hear from you.\\\\n', 'If you are unable to come I shall give you fuller details, and would\\\\n', 'esteem it a great kindness if you would favour me with your opinion.\\\\n', 'Yours faithfully,\\\\n', '\\\\n', 'TOBIAS GREGSON.\\\\n', '\\\\n', '\\\\n', 'Gregson is the smartest of the Scotland Yarders, my friend remarked;\\\\n', 'he and Lestrade are the pick of a bad lot. They are both quick and\\\\n', 'energetic, but conventional--shockingly so. They have their knives\\\\n', 'into one another, too. They are as jealous as a pair of professional\\\\n', 'beauties. There will be some fun over this case if they are both put\\\\n', 'upon the scent.\\\\n', '\\\\n', 'I was amazed at the calm way in which he rippled on. Surely there is\\\\n', 'not a moment to be lost, I cried, shall I go and order you a cab?\\\\n', '\\\\n', 'Im not sure about whether I shall go. I am the most incurably lazy\\\\n', 'devil that ever stood in shoe leather--that is, when the fit is on me,\\\\n', 'for I can be spry enough at times.\\\\n', '\\\\n', 'Why, it is just such a chance as you have been longing for.\\\\n', '\\\\n', 'My \", '')\n"
     ]
    }
   ],
   "source": [
    "with open('TheCompleteSherlockHolmes.txt') as holmes:\n",
    "    txt = holmes.readlines()\n",
    "r = '(^.*?[Ee]lementary+\\W{1,4}(.*?)+my(.*?)dear\\s{1,10}(.*?)+[Ww]atson)'\n",
    "\n",
    "matches = re.findall(r,str(txt))\n",
    "for m in matches:\n",
    "    print(m)\n",
    "    \n",
    "    \n",
    "    \n",
    "#I know the answer is 0. they say elementary 5 times and each 5 times, they do not say this line at all. \n",
    "#In fact, they do not even say Elementary my dear watson at all in the story."
   ]
  },
  {
   "cell_type": "markdown",
   "metadata": {},
   "source": [
    "**Question 4.4**: (6 points) Finally, let's try to find what Holmes might actually have said.  Search for any phrase of the form \n",
    "- '_______ my dear Watson'  or\n",
    "- '______, my dear Watson'\n",
    "\n",
    "Where ______ is a maximal string of non-whitespace characters.  Build a regex that will match both of these patterns and search the text for all matches. Using capture groups, build the set of all possiblities for ______."
   ]
  },
  {
   "cell_type": "code",
   "execution_count": 50,
   "metadata": {},
   "outputs": [
    {
     "name": "stdout",
     "output_type": "stream",
     "text": [
      "46\n",
      "time\n",
      "know\n",
      "shows\n",
      "afraid\n",
      "no\n",
      "air\n",
      "yet\n",
      "world\n",
      "evening\n",
      "now\n",
      "now\n",
      "blunder\n",
      "Ah\n",
      "habits\n",
      "word\n",
      "tongue\n",
      "superficial\n",
      "breakfast\n",
      "powers\n",
      "beg\n",
      "especially\n",
      "you\n",
      "was\n",
      "sorrow\n",
      "you\n",
      "Because\n",
      "Now\n",
      "So\n",
      "that\n",
      "see\n",
      "place\n",
      "no\n",
      "yes\n",
      "it\n",
      "do\n",
      "good\n",
      "Yes\n",
      "Exactly\n",
      "progress\n",
      "confess\n",
      "no\n",
      "will\n",
      "No\n",
      "Exactly\n",
      "shrewdness\n",
      "serious\n",
      "1\n",
      "argument\n"
     ]
    }
   ],
   "source": [
    "import re\n",
    "with open('TheCompleteSherlockHolmes.txt') as holmes:\n",
    "    txt = holmes.readlines()\n",
    "r = '(\\w+)(?=,), my dear Watson'\n",
    "\n",
    "\n",
    "matches = re.findall(r,str(txt),re.IGNORECASE)\n",
    "print(len(matches))\n",
    "for m in matches:\n",
    "    print(m)\n",
    "\n",
    "\n",
    "r = '(\\w+) my dear Watson'\n",
    "matches = re.findall(r,str(txt),re.IGNORECASE)\n",
    "print(len(matches))\n",
    "for m in matches:\n",
    "    print(m)    \n",
    "    \n"
   ]
  },
  {
   "cell_type": "markdown",
   "metadata": {},
   "source": [
    "Congratulations!  You have survived the Data 3402 Mid-Term Exam.  Upload your completed notebook to Blackboard.  Be sure to check in with your instructor before you leave so that your submission can be verified."
   ]
  },
  {
   "cell_type": "code",
   "execution_count": null,
   "metadata": {},
   "outputs": [],
   "source": []
  }
 ],
 "metadata": {
  "@webio": {
   "lastCommId": "8d2e6e95e5e04a37802655764b9c3a85",
   "lastKernelId": "31b4383a-70b7-4b82-a98f-c7f958bf4d6c"
  },
  "kernelspec": {
   "display_name": "Python 3",
   "language": "python",
   "name": "python3"
  },
  "language_info": {
   "codemirror_mode": {
    "name": "ipython",
    "version": 3
   },
   "file_extension": ".py",
   "mimetype": "text/x-python",
   "name": "python",
   "nbconvert_exporter": "python",
   "pygments_lexer": "ipython3",
   "version": "3.7.4"
  }
 },
 "nbformat": 4,
 "nbformat_minor": 2
}