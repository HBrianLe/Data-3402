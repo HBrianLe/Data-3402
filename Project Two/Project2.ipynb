{
 "cells": [
  {
   "cell_type": "markdown",
   "metadata": {},
   "source": [
    "# Data 3402: Project 2: Databases\n",
    "\n",
    "For this project, you will begin to build a database to store the MLB data you acquired in Project 1.\n",
    "In Part 1, you will create a SQLite version of the Lahman Database, which you downloaded in CSV format previously.  In Part 2, you will write several SQL queries to extract some information from the database.\n",
    "\n",
    "As always, the work you submit should be your own. This assignment will be due by **11:59pm on Monday 4/20**\n",
    "\n",
    "And now ... On to the Project!\n",
    "\n",
    "## 1. The Lahman Database: Creating the schema and loading the data. (65% of the project grade)\n",
    "In Project 1, you should have created a directory called `Lahman`.  Inside this directory, you should have a directory called `core` which contains 27 csv files.\n",
    "\n",
    "![lahman_csv](lahman_csv.png)\n",
    "\n",
    "There is also a directory called `upstream` that contains one table called `Teams.csv`.  You can ignore this file.\n",
    "\n",
    "### Step 1:\n",
    "Create a SQLite database called `Baseball.db`.  \n",
    "### Step 2:\n",
    "Inside `Baseball.db`, create one table for each csv file.\n",
    "1. Each table should be named `Lahman_<table>` where `<table>.csv` is the corresponding csv file.\n",
    "\n",
    "\n",
    "2. Use appropriate datatypes for each column.  **Do not simply give each column the TEXT datatype.** Columns that hold integers should have INTEGER type and so forth\n",
    "\n",
    "\n",
    "3. Appropriately define primary and foreign keys on the tables.  The tables `Lahman_Parks`, `Lahman_People`, `Lahman_Schools`, `Lahman_Teams`, and `Lahman_TeamsFranchises` should be the only tables that need primary keys defined, but most (if not all) of the others should have foreign keys defined that reference these primary keys.\n",
    "    - Keep in mind that primary keys can consist of multiple columns. Several of the tables listed above will require composite primary keys.\n",
    "    - Composite foreign keys are also allowed. You can reference a composite primary key with a composite foreign key.\n",
    "\n",
    "You should have a single `.sql` file that can be executed to create all of the tables.\n",
    "\n",
    "### Step 3:\n",
    "Load the data.  Keep in mind that if a table has a foreign key, the table that the foreign key references must be loaded first.\n",
    "\n",
    "\n",
    "\n",
    "\n",
    "# 2. Querying the Lahman Database. (35% of the project grade)\n",
    "For this part, write your SQL queries that answer each question in the code cell provided.  Do not try to run them though, since I have not found an easy way to execute SQL queries in Jupyter.  Do not put your solution queries in a .sql file.\n",
    "\n",
    "Descriptions of the tables and columns can be found [here](http://www.seanlahman.com/files/database/readme2017.txt)\n",
    "\n",
    "**Question 1**:  Write a query counts the number of Hall of Fame inductees that were accepted with at least 95% of the votes.\n"
   ]
  },
  {
   "cell_type": "code",
   "execution_count": null,
   "metadata": {},
   "outputs": [],
   "source": []
  },
  {
   "cell_type": "markdown",
   "metadata": {},
   "source": [
    "**Question 2**: Write a query that lists all players who have never been nominated for the Hall of Fame."
   ]
  },
  {
   "cell_type": "code",
   "execution_count": null,
   "metadata": {},
   "outputs": [],
   "source": []
  },
  {
   "cell_type": "markdown",
   "metadata": {},
   "source": [
    "**Question 3**:  Write a query that prints the player with the highest batting average among players with at least 80 at bats."
   ]
  },
  {
   "cell_type": "code",
   "execution_count": null,
   "metadata": {},
   "outputs": [],
   "source": []
  },
  {
   "cell_type": "markdown",
   "metadata": {},
   "source": [
    "**Question 4**:  Write a query the prints a list of franchises that have won World Series titles along with the number of World Series wins ordered in descending order by number of wins."
   ]
  },
  {
   "cell_type": "code",
   "execution_count": null,
   "metadata": {},
   "outputs": [],
   "source": []
  },
  {
   "cell_type": "markdown",
   "metadata": {},
   "source": [
    "**Question 5**: Write a query that prints a list of active franchises and their average annual salary since 2010."
   ]
  },
  {
   "cell_type": "code",
   "execution_count": null,
   "metadata": {},
   "outputs": [],
   "source": []
  },
  {
   "cell_type": "markdown",
   "metadata": {},
   "source": [
    "Congratulations!  You have completed project 2.  Please upload your completed database (`Baseball.db`), your `.sql` file to create the database, and your Jupyter notebook to Blackboard. As always, the work you submit should be your own. This assignment will be due by **11:59pm on Monday 4/20**\n"
   ]
  },
  {
   "cell_type": "code",
   "execution_count": null,
   "metadata": {},
   "outputs": [],
   "source": []
  }
 ],
 "metadata": {
  "kernelspec": {
   "display_name": "Python 3",
   "language": "python",
   "name": "python3"
  },
  "language_info": {
   "codemirror_mode": {
    "name": "ipython",
    "version": 3
   },
   "file_extension": ".py",
   "mimetype": "text/x-python",
   "name": "python",
   "nbconvert_exporter": "python",
   "pygments_lexer": "ipython3",
   "version": "3.7.4"
  }
 },
 "nbformat": 4,
 "nbformat_minor": 2
}
