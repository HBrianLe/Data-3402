{
 "cells": [
  {
   "cell_type": "markdown",
   "metadata": {},
   "source": [
    "**Question 1**:  Write a query counts the number of Hall of Fame inductees that were accepted with at least 95% of the votes.\n"
   ]
  },
  {
   "cell_type": "code",
   "execution_count": null,
   "metadata": {},
   "outputs": [],
   "source": [
    "\"\"\"\n",
    "SELECT count( * ) \n",
    "  FROM Lahman_HallOfFame hall\n",
    " WHERE hall.votes / hall.ballots > 0.95;\n",
    "\n",
    "\"\"\""
   ]
  },
  {
   "cell_type": "markdown",
   "metadata": {},
   "source": [
    "**Question 2**: Write a query that lists all players who have never been nominated for the Hall of Fame."
   ]
  },
  {
   "cell_type": "code",
   "execution_count": null,
   "metadata": {},
   "outputs": [],
   "source": [
    "\"\"\"\n",
    "SELECT DISTINCT  lp.playerID, lp.nameFirst, lp.nameLast\n",
    "  FROM Lahman_People lp\n",
    "       LEFT OUTER JOIN\n",
    "       Lahman_HallOfFame hall ON hall.playerID = lp.playerID\n",
    " WHERE (hall.playerID) IS NULL;\n",
    "\"\"\""
   ]
  },
  {
   "cell_type": "markdown",
   "metadata": {},
   "source": [
    "**Question 3**:  Write a query that prints the player with the highest batting average among players with at least 80 at bats."
   ]
  },
  {
   "cell_type": "code",
   "execution_count": null,
   "metadata": {},
   "outputs": [],
   "source": [
    "\"\"\"\n",
    "SELECT PlayerID, LP.nameFirst, LP.nameLast\n",
    "  FROM (\n",
    "           SELECT PlayerID AS PlayerID_old,\n",
    "                  AB + ABP AS AB,\n",
    "                  H + HP AS H\n",
    "             FROM (\n",
    "                      SELECT Lahman_Batting.playerID AS PlayerID,\n",
    "                             sum(Lahman_Batting.AB) AS AB,\n",
    "                             sum(Lahman_Batting.H) AS H\n",
    "                        FROM Lahman_Batting\n",
    "                       GROUP BY Lahman_Batting.playerID\n",
    "                  )\n",
    "                  LEFT OUTER JOIN\n",
    "                  (\n",
    "                      SELECT Lahman_BattingPost.playerID AS PlayerID_post,\n",
    "                             sum(Lahman_BattingPost.AB) AS ABP,\n",
    "                             sum(Lahman_BattingPost.H) AS HP\n",
    "                        FROM Lahman_BattingPost\n",
    "                       GROUP BY Lahman_BattingPost.playerID\n",
    "                  )\n",
    "                  ON PlayerID = PlayerID_post\n",
    "       )\n",
    "       LEFT OUTER JOIN Lahman_People AS LP ON LP.playerID = PlayerID_old\n",
    " WHERE H >= 80\n",
    " ORDER BY H / AB DESC\n",
    " LIMIT 1;\n",
    "\n",
    "\n",
    "\n",
    "\"\"\""
   ]
  },
  {
   "cell_type": "markdown",
   "metadata": {},
   "source": [
    "**Question 4**:  Write a query the prints a list of franchises that have won World Series titles along with the number of World Series wins ordered in descending order by number of wins."
   ]
  },
  {
   "cell_type": "code",
   "execution_count": null,
   "metadata": {},
   "outputs": [],
   "source": [
    "\"\"\"\n",
    "\n",
    "SELECT franchID,\n",
    "       COUNT( * ) AS [Number of World Series Wins]\n",
    "  FROM (\n",
    "           SELECT DISTINCT Lahman_SeriesPost.yearID,\n",
    "                           Lahman_SeriesPost.teamIDwinner,\n",
    "                           Lahman_Teams.franchID\n",
    "             FROM Lahman_SeriesPost\n",
    "                  LEFT OUTER JOIN\n",
    "                  Lahman_Teams ON Lahman_Teams.teamID = Lahman_SeriesPost.teamIDwinner\n",
    "            WHERE Lahman_SeriesPost.round = 'WS'\n",
    "            GROUP BY Lahman_SeriesPost.yearID,\n",
    "                     Lahman_Teams.franchID\n",
    "       )\n",
    " GROUP BY franchID\n",
    " ORDER BY COUNT( * ) DESC;\n",
    "\n",
    "\n",
    "\"\"\""
   ]
  },
  {
   "cell_type": "markdown",
   "metadata": {},
   "source": [
    "**Question 5**: Write a query that prints a list of active franchises and their average annual salary since 2010."
   ]
  },
  {
   "cell_type": "code",
   "execution_count": null,
   "metadata": {},
   "outputs": [],
   "source": [
    "\"\"\"\n",
    "SELECT DISTINCT Lahman_TeamsFranchises.franchName,\n",
    "                round(avg(AVGsal),2)\n",
    "  FROM (\n",
    "           SELECT DISTINCT Lahman_Salaries.yearID AS Year,\n",
    "                           Lahman_Salaries.teamID AS Team,\n",
    "                           avg(Lahman_Salaries.salary) AS AVGsal\n",
    "             FROM Lahman_Salaries\n",
    "            WHERE Lahman_Salaries.yearID >= 2010\n",
    "            GROUP BY Lahman_Salaries.teamID,\n",
    "                     Lahman_Salaries.yearID\n",
    "       )\n",
    "       LEFT OUTER JOIN\n",
    "       Lahman_Teams ON Lahman_Teams.teamID = Team\n",
    "       LEFT OUTER JOIN\n",
    "       Lahman_TeamsFranchises ON Lahman_TeamsFranchises.FranchisesfranchID = Lahman_Teams.franchID\n",
    " WHERE Lahman_TeamsFranchises.active = 'Y'\n",
    " GROUP BY Lahman_TeamsFranchises.FranchisesfranchID\n",
    " ORDER BY FranchisesfranchID;\n",
    "\n",
    "\"\"\""
   ]
  },
  {
   "cell_type": "markdown",
   "metadata": {},
   "source": [
    "Congratulations!  You have completed project 2.  Please upload your completed database (`Baseball.db`), your `.sql` file to create the database, and your Jupyter notebook to Blackboard. As always, the work you submit should be your own. This assignment will be due by **11:59pm on Monday 4/20**\n"
   ]
  },
  {
   "cell_type": "code",
   "execution_count": null,
   "metadata": {},
   "outputs": [],
   "source": []
  }
 ],
 "metadata": {
  "kernelspec": {
   "display_name": "Python 3",
   "language": "python",
   "name": "python3"
  },
  "language_info": {
   "codemirror_mode": {
    "name": "ipython",
    "version": 3
   },
   "file_extension": ".py",
   "mimetype": "text/x-python",
   "name": "python",
   "nbconvert_exporter": "python",
   "pygments_lexer": "ipython3",
   "version": "3.7.4-final"
  }
 },
 "nbformat": 4,
 "nbformat_minor": 2
}